{
  "nbformat": 4,
  "nbformat_minor": 0,
  "metadata": {
    "colab": {
      "provenance": []
    },
    "kernelspec": {
      "name": "python3",
      "display_name": "Python 3"
    },
    "language_info": {
      "name": "python"
    }
  },
  "cells": [
    {
      "cell_type": "code",
      "source": [
        "# install modules\n",
        "!pip install biopython\n",
        "!pip install torch\n",
        "!pip install sklearn\n"
      ],
      "metadata": {
        "colab": {
          "base_uri": "https://localhost:8080/"
        },
        "id": "5S_INw-HM79o",
        "outputId": "85fc974c-dc1e-4130-ee5e-5f0c2146d949"
      },
      "execution_count": 40,
      "outputs": [
        {
          "output_type": "stream",
          "name": "stdout",
          "text": [
            "Requirement already satisfied: biopython in /usr/local/lib/python3.10/dist-packages (1.81)\n",
            "Requirement already satisfied: numpy in /usr/local/lib/python3.10/dist-packages (from biopython) (1.22.4)\n",
            "Requirement already satisfied: torch in /usr/local/lib/python3.10/dist-packages (2.0.1+cu118)\n",
            "Requirement already satisfied: filelock in /usr/local/lib/python3.10/dist-packages (from torch) (3.12.2)\n",
            "Requirement already satisfied: typing-extensions in /usr/local/lib/python3.10/dist-packages (from torch) (4.7.1)\n",
            "Requirement already satisfied: sympy in /usr/local/lib/python3.10/dist-packages (from torch) (1.11.1)\n",
            "Requirement already satisfied: networkx in /usr/local/lib/python3.10/dist-packages (from torch) (3.1)\n",
            "Requirement already satisfied: jinja2 in /usr/local/lib/python3.10/dist-packages (from torch) (3.1.2)\n",
            "Requirement already satisfied: triton==2.0.0 in /usr/local/lib/python3.10/dist-packages (from torch) (2.0.0)\n",
            "Requirement already satisfied: cmake in /usr/local/lib/python3.10/dist-packages (from triton==2.0.0->torch) (3.25.2)\n",
            "Requirement already satisfied: lit in /usr/local/lib/python3.10/dist-packages (from triton==2.0.0->torch) (16.0.6)\n",
            "Requirement already satisfied: MarkupSafe>=2.0 in /usr/local/lib/python3.10/dist-packages (from jinja2->torch) (2.1.3)\n",
            "Requirement already satisfied: mpmath>=0.19 in /usr/local/lib/python3.10/dist-packages (from sympy->torch) (1.3.0)\n",
            "Requirement already satisfied: sklearn in /usr/local/lib/python3.10/dist-packages (0.0.post7)\n"
          ]
        }
      ]
    },
    {
      "cell_type": "code",
      "source": [
        "import warnings\n",
        "warnings.filterwarnings('ignore')"
      ],
      "metadata": {
        "id": "-FLwmoEKFH2P"
      },
      "execution_count": 41,
      "outputs": []
    },
    {
      "cell_type": "code",
      "execution_count": 45,
      "metadata": {
        "id": "l1JgBDb2Mvk6"
      },
      "outputs": [],
      "source": [
        "# import Libraries\n",
        "import torch # PyTorch framework\n",
        "import torch.nn as nn # PyTorch neural network module\n",
        "import torch.optim as optim # PyTorch optimizer module\n",
        "import torch.utils.data as data # PyTorch data loader module\n",
        "import numpy as np # NumPy for numerical operations\n",
        "import pandas as pd # Pandas for data manipulation\n",
        "from Bio import SeqIO # Biopython for sequence input/output\n",
        "from Bio.Seq import Seq # Biopython for sequence objects\n",
        "# from Bio.Alphabet import IUPAC # Biopython for alphabet objects\n",
        "from Bio.Data import CodonTable # Biopython for codon table objects\n",
        "import matplotlib.pyplot as plt # Matplotlib for plotting\n",
        "import pandas as pd\n",
        "from Bio.Seq import translate\n",
        "from Bio.SeqUtils.ProtParam import ProteinAnalysis\n",
        "import re\n",
        "from sklearn.preprocessing import LabelEncoder, OneHotEncoder\n",
        "from sklearn.feature_extraction.text import CountVectorizer\n",
        "from sklearn.model_selection import train_test_split\n",
        "from sklearn.naive_bayes import GaussianNB\n",
        "from sklearn.neighbors import KNeighborsClassifier\n",
        "from sklearn.metrics import accuracy_score, f1_score, precision_score, recall_score\n",
        "from sklearn.feature_extraction.text import TfidfVectorizer\n",
        "from sklearn.metrics import confusion_matrix\n",
        "import seaborn as sns\n",
        "import matplotlib.pyplot as plt\n",
        "\n"
      ]
    },
    {
      "cell_type": "code",
      "source": [],
      "metadata": {
        "id": "uThU3gNmFAMX"
      },
      "execution_count": null,
      "outputs": []
    },
    {
      "cell_type": "code",
      "source": [
        "# Read File\n",
        "seq_records = SeqIO.parse(\"example_dna.fa\", \"fasta\")# read FASTA file into a list of SeqRecord objects\n",
        "seq_list = [{'ID': record.id, 'DNA': str(record.seq)} for record in seq_records]\n"
      ],
      "metadata": {
        "id": "Lmm1BYFONE5S"
      },
      "execution_count": 25,
      "outputs": []
    },
    {
      "cell_type": "code",
      "source": [
        "# Convert to DataFrame\n",
        "seq_df = pd.DataFrame(seq_list)"
      ],
      "metadata": {
        "id": "a9IOpyLBNMmZ"
      },
      "execution_count": 26,
      "outputs": []
    },
    {
      "cell_type": "code",
      "source": [
        "seq_df.head()"
      ],
      "metadata": {
        "id": "eS6_G-MeNPPh",
        "colab": {
          "base_uri": "https://localhost:8080/",
          "height": 112
        },
        "outputId": "c947874b-89bc-4367-a10f-e4267f89c141"
      },
      "execution_count": 27,
      "outputs": [
        {
          "output_type": "execute_result",
          "data": {
            "text/plain": [
              "                  ID                                                DNA\n",
              "0  ENST00000435737.5  ATGTTTCGCATCACCAACATTGAGTTTCTTCCCGAATACCGACAAA...\n",
              "1  ENST00000419127.5  ATGTTTCGCATCACCAACATTGAGTTTCTTCCCGAATACCGACAAA..."
            ],
            "text/html": [
              "\n",
              "\n",
              "  <div id=\"df-b8179464-5931-4909-b7d5-d75bf666ecb4\">\n",
              "    <div class=\"colab-df-container\">\n",
              "      <div>\n",
              "<style scoped>\n",
              "    .dataframe tbody tr th:only-of-type {\n",
              "        vertical-align: middle;\n",
              "    }\n",
              "\n",
              "    .dataframe tbody tr th {\n",
              "        vertical-align: top;\n",
              "    }\n",
              "\n",
              "    .dataframe thead th {\n",
              "        text-align: right;\n",
              "    }\n",
              "</style>\n",
              "<table border=\"1\" class=\"dataframe\">\n",
              "  <thead>\n",
              "    <tr style=\"text-align: right;\">\n",
              "      <th></th>\n",
              "      <th>ID</th>\n",
              "      <th>DNA</th>\n",
              "    </tr>\n",
              "  </thead>\n",
              "  <tbody>\n",
              "    <tr>\n",
              "      <th>0</th>\n",
              "      <td>ENST00000435737.5</td>\n",
              "      <td>ATGTTTCGCATCACCAACATTGAGTTTCTTCCCGAATACCGACAAA...</td>\n",
              "    </tr>\n",
              "    <tr>\n",
              "      <th>1</th>\n",
              "      <td>ENST00000419127.5</td>\n",
              "      <td>ATGTTTCGCATCACCAACATTGAGTTTCTTCCCGAATACCGACAAA...</td>\n",
              "    </tr>\n",
              "  </tbody>\n",
              "</table>\n",
              "</div>\n",
              "      <button class=\"colab-df-convert\" onclick=\"convertToInteractive('df-b8179464-5931-4909-b7d5-d75bf666ecb4')\"\n",
              "              title=\"Convert this dataframe to an interactive table.\"\n",
              "              style=\"display:none;\">\n",
              "\n",
              "  <svg xmlns=\"http://www.w3.org/2000/svg\" height=\"24px\"viewBox=\"0 0 24 24\"\n",
              "       width=\"24px\">\n",
              "    <path d=\"M0 0h24v24H0V0z\" fill=\"none\"/>\n",
              "    <path d=\"M18.56 5.44l.94 2.06.94-2.06 2.06-.94-2.06-.94-.94-2.06-.94 2.06-2.06.94zm-11 1L8.5 8.5l.94-2.06 2.06-.94-2.06-.94L8.5 2.5l-.94 2.06-2.06.94zm10 10l.94 2.06.94-2.06 2.06-.94-2.06-.94-.94-2.06-.94 2.06-2.06.94z\"/><path d=\"M17.41 7.96l-1.37-1.37c-.4-.4-.92-.59-1.43-.59-.52 0-1.04.2-1.43.59L10.3 9.45l-7.72 7.72c-.78.78-.78 2.05 0 2.83L4 21.41c.39.39.9.59 1.41.59.51 0 1.02-.2 1.41-.59l7.78-7.78 2.81-2.81c.8-.78.8-2.07 0-2.86zM5.41 20L4 18.59l7.72-7.72 1.47 1.35L5.41 20z\"/>\n",
              "  </svg>\n",
              "      </button>\n",
              "\n",
              "\n",
              "\n",
              "    <div id=\"df-d6fdafce-d8fa-4f57-9940-971236157ada\">\n",
              "      <button class=\"colab-df-quickchart\" onclick=\"quickchart('df-d6fdafce-d8fa-4f57-9940-971236157ada')\"\n",
              "              title=\"Suggest charts.\"\n",
              "              style=\"display:none;\">\n",
              "\n",
              "<svg xmlns=\"http://www.w3.org/2000/svg\" height=\"24px\"viewBox=\"0 0 24 24\"\n",
              "     width=\"24px\">\n",
              "    <g>\n",
              "        <path d=\"M19 3H5c-1.1 0-2 .9-2 2v14c0 1.1.9 2 2 2h14c1.1 0 2-.9 2-2V5c0-1.1-.9-2-2-2zM9 17H7v-7h2v7zm4 0h-2V7h2v10zm4 0h-2v-4h2v4z\"/>\n",
              "    </g>\n",
              "</svg>\n",
              "      </button>\n",
              "    </div>\n",
              "\n",
              "<style>\n",
              "  .colab-df-quickchart {\n",
              "    background-color: #E8F0FE;\n",
              "    border: none;\n",
              "    border-radius: 50%;\n",
              "    cursor: pointer;\n",
              "    display: none;\n",
              "    fill: #1967D2;\n",
              "    height: 32px;\n",
              "    padding: 0 0 0 0;\n",
              "    width: 32px;\n",
              "  }\n",
              "\n",
              "  .colab-df-quickchart:hover {\n",
              "    background-color: #E2EBFA;\n",
              "    box-shadow: 0px 1px 2px rgba(60, 64, 67, 0.3), 0px 1px 3px 1px rgba(60, 64, 67, 0.15);\n",
              "    fill: #174EA6;\n",
              "  }\n",
              "\n",
              "  [theme=dark] .colab-df-quickchart {\n",
              "    background-color: #3B4455;\n",
              "    fill: #D2E3FC;\n",
              "  }\n",
              "\n",
              "  [theme=dark] .colab-df-quickchart:hover {\n",
              "    background-color: #434B5C;\n",
              "    box-shadow: 0px 1px 3px 1px rgba(0, 0, 0, 0.15);\n",
              "    filter: drop-shadow(0px 1px 2px rgba(0, 0, 0, 0.3));\n",
              "    fill: #FFFFFF;\n",
              "  }\n",
              "</style>\n",
              "\n",
              "    <script>\n",
              "      async function quickchart(key) {\n",
              "        const containerElement = document.querySelector('#' + key);\n",
              "        const charts = await google.colab.kernel.invokeFunction(\n",
              "            'suggestCharts', [key], {});\n",
              "      }\n",
              "    </script>\n",
              "\n",
              "      <script>\n",
              "\n",
              "function displayQuickchartButton(domScope) {\n",
              "  let quickchartButtonEl =\n",
              "    domScope.querySelector('#df-d6fdafce-d8fa-4f57-9940-971236157ada button.colab-df-quickchart');\n",
              "  quickchartButtonEl.style.display =\n",
              "    google.colab.kernel.accessAllowed ? 'block' : 'none';\n",
              "}\n",
              "\n",
              "        displayQuickchartButton(document);\n",
              "      </script>\n",
              "      <style>\n",
              "    .colab-df-container {\n",
              "      display:flex;\n",
              "      flex-wrap:wrap;\n",
              "      gap: 12px;\n",
              "    }\n",
              "\n",
              "    .colab-df-convert {\n",
              "      background-color: #E8F0FE;\n",
              "      border: none;\n",
              "      border-radius: 50%;\n",
              "      cursor: pointer;\n",
              "      display: none;\n",
              "      fill: #1967D2;\n",
              "      height: 32px;\n",
              "      padding: 0 0 0 0;\n",
              "      width: 32px;\n",
              "    }\n",
              "\n",
              "    .colab-df-convert:hover {\n",
              "      background-color: #E2EBFA;\n",
              "      box-shadow: 0px 1px 2px rgba(60, 64, 67, 0.3), 0px 1px 3px 1px rgba(60, 64, 67, 0.15);\n",
              "      fill: #174EA6;\n",
              "    }\n",
              "\n",
              "    [theme=dark] .colab-df-convert {\n",
              "      background-color: #3B4455;\n",
              "      fill: #D2E3FC;\n",
              "    }\n",
              "\n",
              "    [theme=dark] .colab-df-convert:hover {\n",
              "      background-color: #434B5C;\n",
              "      box-shadow: 0px 1px 3px 1px rgba(0, 0, 0, 0.15);\n",
              "      filter: drop-shadow(0px 1px 2px rgba(0, 0, 0, 0.3));\n",
              "      fill: #FFFFFF;\n",
              "    }\n",
              "  </style>\n",
              "\n",
              "      <script>\n",
              "        const buttonEl =\n",
              "          document.querySelector('#df-b8179464-5931-4909-b7d5-d75bf666ecb4 button.colab-df-convert');\n",
              "        buttonEl.style.display =\n",
              "          google.colab.kernel.accessAllowed ? 'block' : 'none';\n",
              "\n",
              "        async function convertToInteractive(key) {\n",
              "          const element = document.querySelector('#df-b8179464-5931-4909-b7d5-d75bf666ecb4');\n",
              "          const dataTable =\n",
              "            await google.colab.kernel.invokeFunction('convertToInteractive',\n",
              "                                                     [key], {});\n",
              "          if (!dataTable) return;\n",
              "\n",
              "          const docLinkHtml = 'Like what you see? Visit the ' +\n",
              "            '<a target=\"_blank\" href=https://colab.research.google.com/notebooks/data_table.ipynb>data table notebook</a>'\n",
              "            + ' to learn more about interactive tables.';\n",
              "          element.innerHTML = '';\n",
              "          dataTable['output_type'] = 'display_data';\n",
              "          await google.colab.output.renderOutput(dataTable, element);\n",
              "          const docLink = document.createElement('div');\n",
              "          docLink.innerHTML = docLinkHtml;\n",
              "          element.appendChild(docLink);\n",
              "        }\n",
              "      </script>\n",
              "    </div>\n",
              "  </div>\n"
            ]
          },
          "metadata": {},
          "execution_count": 27
        }
      ]
    },
    {
      "cell_type": "code",
      "source": [
        "# Convert to RNA\n",
        "\n",
        "# Define a function to convert DNA to RNA using biopython\n",
        "def dna_to_rna(dna):\n",
        "  # Create a Seq object from the DNA string\n",
        "  dna_seq = Seq(dna)\n",
        "  # Transcribe the DNA to RNA using biopython method\n",
        "  rna_seq = dna_seq.transcribe()\n",
        "  # Return the RNA sequence as a string\n",
        "  return str(rna_seq)\n",
        "\n",
        "# Apply the function to the dataframe and create a new column for RNA sequences\n",
        "seq_df['RNA'] = seq_df['DNA'].apply(dna_to_rna)\n",
        "\n",
        "# Print the dataframe\n",
        "seq_df.head()"
      ],
      "metadata": {
        "id": "HcYD_teqNPRZ",
        "colab": {
          "base_uri": "https://localhost:8080/",
          "height": 176
        },
        "outputId": "e49bac07-0d93-4b5c-a1d4-e26e3faadc03"
      },
      "execution_count": 28,
      "outputs": [
        {
          "output_type": "execute_result",
          "data": {
            "text/plain": [
              "                  ID                                                DNA  \\\n",
              "0  ENST00000435737.5  ATGTTTCGCATCACCAACATTGAGTTTCTTCCCGAATACCGACAAA...   \n",
              "1  ENST00000419127.5  ATGTTTCGCATCACCAACATTGAGTTTCTTCCCGAATACCGACAAA...   \n",
              "\n",
              "                                                 RNA  \n",
              "0  AUGUUUCGCAUCACCAACAUUGAGUUUCUUCCCGAAUACCGACAAA...  \n",
              "1  AUGUUUCGCAUCACCAACAUUGAGUUUCUUCCCGAAUACCGACAAA...  "
            ],
            "text/html": [
              "\n",
              "\n",
              "  <div id=\"df-2b15cf9e-68fc-4f47-b07f-cd78ae08e9dc\">\n",
              "    <div class=\"colab-df-container\">\n",
              "      <div>\n",
              "<style scoped>\n",
              "    .dataframe tbody tr th:only-of-type {\n",
              "        vertical-align: middle;\n",
              "    }\n",
              "\n",
              "    .dataframe tbody tr th {\n",
              "        vertical-align: top;\n",
              "    }\n",
              "\n",
              "    .dataframe thead th {\n",
              "        text-align: right;\n",
              "    }\n",
              "</style>\n",
              "<table border=\"1\" class=\"dataframe\">\n",
              "  <thead>\n",
              "    <tr style=\"text-align: right;\">\n",
              "      <th></th>\n",
              "      <th>ID</th>\n",
              "      <th>DNA</th>\n",
              "      <th>RNA</th>\n",
              "    </tr>\n",
              "  </thead>\n",
              "  <tbody>\n",
              "    <tr>\n",
              "      <th>0</th>\n",
              "      <td>ENST00000435737.5</td>\n",
              "      <td>ATGTTTCGCATCACCAACATTGAGTTTCTTCCCGAATACCGACAAA...</td>\n",
              "      <td>AUGUUUCGCAUCACCAACAUUGAGUUUCUUCCCGAAUACCGACAAA...</td>\n",
              "    </tr>\n",
              "    <tr>\n",
              "      <th>1</th>\n",
              "      <td>ENST00000419127.5</td>\n",
              "      <td>ATGTTTCGCATCACCAACATTGAGTTTCTTCCCGAATACCGACAAA...</td>\n",
              "      <td>AUGUUUCGCAUCACCAACAUUGAGUUUCUUCCCGAAUACCGACAAA...</td>\n",
              "    </tr>\n",
              "  </tbody>\n",
              "</table>\n",
              "</div>\n",
              "      <button class=\"colab-df-convert\" onclick=\"convertToInteractive('df-2b15cf9e-68fc-4f47-b07f-cd78ae08e9dc')\"\n",
              "              title=\"Convert this dataframe to an interactive table.\"\n",
              "              style=\"display:none;\">\n",
              "\n",
              "  <svg xmlns=\"http://www.w3.org/2000/svg\" height=\"24px\"viewBox=\"0 0 24 24\"\n",
              "       width=\"24px\">\n",
              "    <path d=\"M0 0h24v24H0V0z\" fill=\"none\"/>\n",
              "    <path d=\"M18.56 5.44l.94 2.06.94-2.06 2.06-.94-2.06-.94-.94-2.06-.94 2.06-2.06.94zm-11 1L8.5 8.5l.94-2.06 2.06-.94-2.06-.94L8.5 2.5l-.94 2.06-2.06.94zm10 10l.94 2.06.94-2.06 2.06-.94-2.06-.94-.94-2.06-.94 2.06-2.06.94z\"/><path d=\"M17.41 7.96l-1.37-1.37c-.4-.4-.92-.59-1.43-.59-.52 0-1.04.2-1.43.59L10.3 9.45l-7.72 7.72c-.78.78-.78 2.05 0 2.83L4 21.41c.39.39.9.59 1.41.59.51 0 1.02-.2 1.41-.59l7.78-7.78 2.81-2.81c.8-.78.8-2.07 0-2.86zM5.41 20L4 18.59l7.72-7.72 1.47 1.35L5.41 20z\"/>\n",
              "  </svg>\n",
              "      </button>\n",
              "\n",
              "\n",
              "\n",
              "    <div id=\"df-6d2170d2-5087-4245-bd39-eb83717ea73b\">\n",
              "      <button class=\"colab-df-quickchart\" onclick=\"quickchart('df-6d2170d2-5087-4245-bd39-eb83717ea73b')\"\n",
              "              title=\"Suggest charts.\"\n",
              "              style=\"display:none;\">\n",
              "\n",
              "<svg xmlns=\"http://www.w3.org/2000/svg\" height=\"24px\"viewBox=\"0 0 24 24\"\n",
              "     width=\"24px\">\n",
              "    <g>\n",
              "        <path d=\"M19 3H5c-1.1 0-2 .9-2 2v14c0 1.1.9 2 2 2h14c1.1 0 2-.9 2-2V5c0-1.1-.9-2-2-2zM9 17H7v-7h2v7zm4 0h-2V7h2v10zm4 0h-2v-4h2v4z\"/>\n",
              "    </g>\n",
              "</svg>\n",
              "      </button>\n",
              "    </div>\n",
              "\n",
              "<style>\n",
              "  .colab-df-quickchart {\n",
              "    background-color: #E8F0FE;\n",
              "    border: none;\n",
              "    border-radius: 50%;\n",
              "    cursor: pointer;\n",
              "    display: none;\n",
              "    fill: #1967D2;\n",
              "    height: 32px;\n",
              "    padding: 0 0 0 0;\n",
              "    width: 32px;\n",
              "  }\n",
              "\n",
              "  .colab-df-quickchart:hover {\n",
              "    background-color: #E2EBFA;\n",
              "    box-shadow: 0px 1px 2px rgba(60, 64, 67, 0.3), 0px 1px 3px 1px rgba(60, 64, 67, 0.15);\n",
              "    fill: #174EA6;\n",
              "  }\n",
              "\n",
              "  [theme=dark] .colab-df-quickchart {\n",
              "    background-color: #3B4455;\n",
              "    fill: #D2E3FC;\n",
              "  }\n",
              "\n",
              "  [theme=dark] .colab-df-quickchart:hover {\n",
              "    background-color: #434B5C;\n",
              "    box-shadow: 0px 1px 3px 1px rgba(0, 0, 0, 0.15);\n",
              "    filter: drop-shadow(0px 1px 2px rgba(0, 0, 0, 0.3));\n",
              "    fill: #FFFFFF;\n",
              "  }\n",
              "</style>\n",
              "\n",
              "    <script>\n",
              "      async function quickchart(key) {\n",
              "        const containerElement = document.querySelector('#' + key);\n",
              "        const charts = await google.colab.kernel.invokeFunction(\n",
              "            'suggestCharts', [key], {});\n",
              "      }\n",
              "    </script>\n",
              "\n",
              "      <script>\n",
              "\n",
              "function displayQuickchartButton(domScope) {\n",
              "  let quickchartButtonEl =\n",
              "    domScope.querySelector('#df-6d2170d2-5087-4245-bd39-eb83717ea73b button.colab-df-quickchart');\n",
              "  quickchartButtonEl.style.display =\n",
              "    google.colab.kernel.accessAllowed ? 'block' : 'none';\n",
              "}\n",
              "\n",
              "        displayQuickchartButton(document);\n",
              "      </script>\n",
              "      <style>\n",
              "    .colab-df-container {\n",
              "      display:flex;\n",
              "      flex-wrap:wrap;\n",
              "      gap: 12px;\n",
              "    }\n",
              "\n",
              "    .colab-df-convert {\n",
              "      background-color: #E8F0FE;\n",
              "      border: none;\n",
              "      border-radius: 50%;\n",
              "      cursor: pointer;\n",
              "      display: none;\n",
              "      fill: #1967D2;\n",
              "      height: 32px;\n",
              "      padding: 0 0 0 0;\n",
              "      width: 32px;\n",
              "    }\n",
              "\n",
              "    .colab-df-convert:hover {\n",
              "      background-color: #E2EBFA;\n",
              "      box-shadow: 0px 1px 2px rgba(60, 64, 67, 0.3), 0px 1px 3px 1px rgba(60, 64, 67, 0.15);\n",
              "      fill: #174EA6;\n",
              "    }\n",
              "\n",
              "    [theme=dark] .colab-df-convert {\n",
              "      background-color: #3B4455;\n",
              "      fill: #D2E3FC;\n",
              "    }\n",
              "\n",
              "    [theme=dark] .colab-df-convert:hover {\n",
              "      background-color: #434B5C;\n",
              "      box-shadow: 0px 1px 3px 1px rgba(0, 0, 0, 0.15);\n",
              "      filter: drop-shadow(0px 1px 2px rgba(0, 0, 0, 0.3));\n",
              "      fill: #FFFFFF;\n",
              "    }\n",
              "  </style>\n",
              "\n",
              "      <script>\n",
              "        const buttonEl =\n",
              "          document.querySelector('#df-2b15cf9e-68fc-4f47-b07f-cd78ae08e9dc button.colab-df-convert');\n",
              "        buttonEl.style.display =\n",
              "          google.colab.kernel.accessAllowed ? 'block' : 'none';\n",
              "\n",
              "        async function convertToInteractive(key) {\n",
              "          const element = document.querySelector('#df-2b15cf9e-68fc-4f47-b07f-cd78ae08e9dc');\n",
              "          const dataTable =\n",
              "            await google.colab.kernel.invokeFunction('convertToInteractive',\n",
              "                                                     [key], {});\n",
              "          if (!dataTable) return;\n",
              "\n",
              "          const docLinkHtml = 'Like what you see? Visit the ' +\n",
              "            '<a target=\"_blank\" href=https://colab.research.google.com/notebooks/data_table.ipynb>data table notebook</a>'\n",
              "            + ' to learn more about interactive tables.';\n",
              "          element.innerHTML = '';\n",
              "          dataTable['output_type'] = 'display_data';\n",
              "          await google.colab.output.renderOutput(dataTable, element);\n",
              "          const docLink = document.createElement('div');\n",
              "          docLink.innerHTML = docLinkHtml;\n",
              "          element.appendChild(docLink);\n",
              "        }\n",
              "      </script>\n",
              "    </div>\n",
              "  </div>\n"
            ]
          },
          "metadata": {},
          "execution_count": 28
        }
      ]
    },
    {
      "cell_type": "code",
      "source": [
        "# Define a function to convert RNA to protein using biopython\n",
        "def rna_to_protein(rna):\n",
        "  # Create a Seq object from the RNA string\n",
        "  rna_seq = Seq(rna)\n",
        "  # Translate the RNA to protein using biopython method\n",
        "  protein_seq = rna_seq.translate()\n",
        "  # Return the protein sequence as a string\n",
        "  return str(protein_seq)\n",
        "\n",
        "# Apply the function to the dataframe and create a new column for protein sequences\n",
        "seq_df['Protein'] = seq_df['RNA'].apply(rna_to_protein)\n",
        "\n",
        "# show the dataframe\n",
        "seq_df.head()"
      ],
      "metadata": {
        "id": "nBb9glVONPTx",
        "colab": {
          "base_uri": "https://localhost:8080/",
          "height": 176
        },
        "outputId": "f04c8206-b606-4e43-efb9-f428da9baaeb"
      },
      "execution_count": 29,
      "outputs": [
        {
          "output_type": "execute_result",
          "data": {
            "text/plain": [
              "                  ID                                                DNA  \\\n",
              "0  ENST00000435737.5  ATGTTTCGCATCACCAACATTGAGTTTCTTCCCGAATACCGACAAA...   \n",
              "1  ENST00000419127.5  ATGTTTCGCATCACCAACATTGAGTTTCTTCCCGAATACCGACAAA...   \n",
              "\n",
              "                                                 RNA  \\\n",
              "0  AUGUUUCGCAUCACCAACAUUGAGUUUCUUCCCGAAUACCGACAAA...   \n",
              "1  AUGUUUCGCAUCACCAACAUUGAGUUUCUUCCCGAAUACCGACAAA...   \n",
              "\n",
              "                                             Protein  \n",
              "0  MFRITNIEFLPEYRQKESREFLSVSRTVQQVINLVYTTSAFSKFYE...  \n",
              "1  MFRITNIEFLPEYRQKESREFLSVSRTVQQVINLVYTTSAFSKFYE...  "
            ],
            "text/html": [
              "\n",
              "\n",
              "  <div id=\"df-bb4995d9-3b88-4413-989c-82628bc5f724\">\n",
              "    <div class=\"colab-df-container\">\n",
              "      <div>\n",
              "<style scoped>\n",
              "    .dataframe tbody tr th:only-of-type {\n",
              "        vertical-align: middle;\n",
              "    }\n",
              "\n",
              "    .dataframe tbody tr th {\n",
              "        vertical-align: top;\n",
              "    }\n",
              "\n",
              "    .dataframe thead th {\n",
              "        text-align: right;\n",
              "    }\n",
              "</style>\n",
              "<table border=\"1\" class=\"dataframe\">\n",
              "  <thead>\n",
              "    <tr style=\"text-align: right;\">\n",
              "      <th></th>\n",
              "      <th>ID</th>\n",
              "      <th>DNA</th>\n",
              "      <th>RNA</th>\n",
              "      <th>Protein</th>\n",
              "    </tr>\n",
              "  </thead>\n",
              "  <tbody>\n",
              "    <tr>\n",
              "      <th>0</th>\n",
              "      <td>ENST00000435737.5</td>\n",
              "      <td>ATGTTTCGCATCACCAACATTGAGTTTCTTCCCGAATACCGACAAA...</td>\n",
              "      <td>AUGUUUCGCAUCACCAACAUUGAGUUUCUUCCCGAAUACCGACAAA...</td>\n",
              "      <td>MFRITNIEFLPEYRQKESREFLSVSRTVQQVINLVYTTSAFSKFYE...</td>\n",
              "    </tr>\n",
              "    <tr>\n",
              "      <th>1</th>\n",
              "      <td>ENST00000419127.5</td>\n",
              "      <td>ATGTTTCGCATCACCAACATTGAGTTTCTTCCCGAATACCGACAAA...</td>\n",
              "      <td>AUGUUUCGCAUCACCAACAUUGAGUUUCUUCCCGAAUACCGACAAA...</td>\n",
              "      <td>MFRITNIEFLPEYRQKESREFLSVSRTVQQVINLVYTTSAFSKFYE...</td>\n",
              "    </tr>\n",
              "  </tbody>\n",
              "</table>\n",
              "</div>\n",
              "      <button class=\"colab-df-convert\" onclick=\"convertToInteractive('df-bb4995d9-3b88-4413-989c-82628bc5f724')\"\n",
              "              title=\"Convert this dataframe to an interactive table.\"\n",
              "              style=\"display:none;\">\n",
              "\n",
              "  <svg xmlns=\"http://www.w3.org/2000/svg\" height=\"24px\"viewBox=\"0 0 24 24\"\n",
              "       width=\"24px\">\n",
              "    <path d=\"M0 0h24v24H0V0z\" fill=\"none\"/>\n",
              "    <path d=\"M18.56 5.44l.94 2.06.94-2.06 2.06-.94-2.06-.94-.94-2.06-.94 2.06-2.06.94zm-11 1L8.5 8.5l.94-2.06 2.06-.94-2.06-.94L8.5 2.5l-.94 2.06-2.06.94zm10 10l.94 2.06.94-2.06 2.06-.94-2.06-.94-.94-2.06-.94 2.06-2.06.94z\"/><path d=\"M17.41 7.96l-1.37-1.37c-.4-.4-.92-.59-1.43-.59-.52 0-1.04.2-1.43.59L10.3 9.45l-7.72 7.72c-.78.78-.78 2.05 0 2.83L4 21.41c.39.39.9.59 1.41.59.51 0 1.02-.2 1.41-.59l7.78-7.78 2.81-2.81c.8-.78.8-2.07 0-2.86zM5.41 20L4 18.59l7.72-7.72 1.47 1.35L5.41 20z\"/>\n",
              "  </svg>\n",
              "      </button>\n",
              "\n",
              "\n",
              "\n",
              "    <div id=\"df-bb58cc48-dbf4-4cf2-a71d-ebd5071d6d23\">\n",
              "      <button class=\"colab-df-quickchart\" onclick=\"quickchart('df-bb58cc48-dbf4-4cf2-a71d-ebd5071d6d23')\"\n",
              "              title=\"Suggest charts.\"\n",
              "              style=\"display:none;\">\n",
              "\n",
              "<svg xmlns=\"http://www.w3.org/2000/svg\" height=\"24px\"viewBox=\"0 0 24 24\"\n",
              "     width=\"24px\">\n",
              "    <g>\n",
              "        <path d=\"M19 3H5c-1.1 0-2 .9-2 2v14c0 1.1.9 2 2 2h14c1.1 0 2-.9 2-2V5c0-1.1-.9-2-2-2zM9 17H7v-7h2v7zm4 0h-2V7h2v10zm4 0h-2v-4h2v4z\"/>\n",
              "    </g>\n",
              "</svg>\n",
              "      </button>\n",
              "    </div>\n",
              "\n",
              "<style>\n",
              "  .colab-df-quickchart {\n",
              "    background-color: #E8F0FE;\n",
              "    border: none;\n",
              "    border-radius: 50%;\n",
              "    cursor: pointer;\n",
              "    display: none;\n",
              "    fill: #1967D2;\n",
              "    height: 32px;\n",
              "    padding: 0 0 0 0;\n",
              "    width: 32px;\n",
              "  }\n",
              "\n",
              "  .colab-df-quickchart:hover {\n",
              "    background-color: #E2EBFA;\n",
              "    box-shadow: 0px 1px 2px rgba(60, 64, 67, 0.3), 0px 1px 3px 1px rgba(60, 64, 67, 0.15);\n",
              "    fill: #174EA6;\n",
              "  }\n",
              "\n",
              "  [theme=dark] .colab-df-quickchart {\n",
              "    background-color: #3B4455;\n",
              "    fill: #D2E3FC;\n",
              "  }\n",
              "\n",
              "  [theme=dark] .colab-df-quickchart:hover {\n",
              "    background-color: #434B5C;\n",
              "    box-shadow: 0px 1px 3px 1px rgba(0, 0, 0, 0.15);\n",
              "    filter: drop-shadow(0px 1px 2px rgba(0, 0, 0, 0.3));\n",
              "    fill: #FFFFFF;\n",
              "  }\n",
              "</style>\n",
              "\n",
              "    <script>\n",
              "      async function quickchart(key) {\n",
              "        const containerElement = document.querySelector('#' + key);\n",
              "        const charts = await google.colab.kernel.invokeFunction(\n",
              "            'suggestCharts', [key], {});\n",
              "      }\n",
              "    </script>\n",
              "\n",
              "      <script>\n",
              "\n",
              "function displayQuickchartButton(domScope) {\n",
              "  let quickchartButtonEl =\n",
              "    domScope.querySelector('#df-bb58cc48-dbf4-4cf2-a71d-ebd5071d6d23 button.colab-df-quickchart');\n",
              "  quickchartButtonEl.style.display =\n",
              "    google.colab.kernel.accessAllowed ? 'block' : 'none';\n",
              "}\n",
              "\n",
              "        displayQuickchartButton(document);\n",
              "      </script>\n",
              "      <style>\n",
              "    .colab-df-container {\n",
              "      display:flex;\n",
              "      flex-wrap:wrap;\n",
              "      gap: 12px;\n",
              "    }\n",
              "\n",
              "    .colab-df-convert {\n",
              "      background-color: #E8F0FE;\n",
              "      border: none;\n",
              "      border-radius: 50%;\n",
              "      cursor: pointer;\n",
              "      display: none;\n",
              "      fill: #1967D2;\n",
              "      height: 32px;\n",
              "      padding: 0 0 0 0;\n",
              "      width: 32px;\n",
              "    }\n",
              "\n",
              "    .colab-df-convert:hover {\n",
              "      background-color: #E2EBFA;\n",
              "      box-shadow: 0px 1px 2px rgba(60, 64, 67, 0.3), 0px 1px 3px 1px rgba(60, 64, 67, 0.15);\n",
              "      fill: #174EA6;\n",
              "    }\n",
              "\n",
              "    [theme=dark] .colab-df-convert {\n",
              "      background-color: #3B4455;\n",
              "      fill: #D2E3FC;\n",
              "    }\n",
              "\n",
              "    [theme=dark] .colab-df-convert:hover {\n",
              "      background-color: #434B5C;\n",
              "      box-shadow: 0px 1px 3px 1px rgba(0, 0, 0, 0.15);\n",
              "      filter: drop-shadow(0px 1px 2px rgba(0, 0, 0, 0.3));\n",
              "      fill: #FFFFFF;\n",
              "    }\n",
              "  </style>\n",
              "\n",
              "      <script>\n",
              "        const buttonEl =\n",
              "          document.querySelector('#df-bb4995d9-3b88-4413-989c-82628bc5f724 button.colab-df-convert');\n",
              "        buttonEl.style.display =\n",
              "          google.colab.kernel.accessAllowed ? 'block' : 'none';\n",
              "\n",
              "        async function convertToInteractive(key) {\n",
              "          const element = document.querySelector('#df-bb4995d9-3b88-4413-989c-82628bc5f724');\n",
              "          const dataTable =\n",
              "            await google.colab.kernel.invokeFunction('convertToInteractive',\n",
              "                                                     [key], {});\n",
              "          if (!dataTable) return;\n",
              "\n",
              "          const docLinkHtml = 'Like what you see? Visit the ' +\n",
              "            '<a target=\"_blank\" href=https://colab.research.google.com/notebooks/data_table.ipynb>data table notebook</a>'\n",
              "            + ' to learn more about interactive tables.';\n",
              "          element.innerHTML = '';\n",
              "          dataTable['output_type'] = 'display_data';\n",
              "          await google.colab.output.renderOutput(dataTable, element);\n",
              "          const docLink = document.createElement('div');\n",
              "          docLink.innerHTML = docLinkHtml;\n",
              "          element.appendChild(docLink);\n",
              "        }\n",
              "      </script>\n",
              "    </div>\n",
              "  </div>\n"
            ]
          },
          "metadata": {},
          "execution_count": 29
        }
      ]
    },
    {
      "cell_type": "code",
      "source": [
        "# Count Number of protein present in the sequence\n",
        "# Define function to count amino acids\n",
        "def count_protein(seq):\n",
        "    analysed_seq = ProteinAnalysis(seq) # create ProteinAnalysis object\n",
        "    return sum(analysed_seq.count_amino_acids().values()) # sum up the values of the amino acid dictionary\n",
        "\n",
        "# Apply function to protein column\n",
        "seq_df[\"protein_count\"] = seq_df[\"Protein\"].apply(count_protein) # store in new column\n",
        "# print(df[\"protein\"].apply(count_protein)) # print out\n",
        "\n",
        "# Display dataframe\n",
        "seq_df.head()"
      ],
      "metadata": {
        "id": "V2L6HpoENPXZ",
        "colab": {
          "base_uri": "https://localhost:8080/",
          "height": 176
        },
        "outputId": "bb11c18e-6d79-44ea-8a75-6dd0d2c1c028"
      },
      "execution_count": 30,
      "outputs": [
        {
          "output_type": "execute_result",
          "data": {
            "text/plain": [
              "                  ID                                                DNA  \\\n",
              "0  ENST00000435737.5  ATGTTTCGCATCACCAACATTGAGTTTCTTCCCGAATACCGACAAA...   \n",
              "1  ENST00000419127.5  ATGTTTCGCATCACCAACATTGAGTTTCTTCCCGAATACCGACAAA...   \n",
              "\n",
              "                                                 RNA  \\\n",
              "0  AUGUUUCGCAUCACCAACAUUGAGUUUCUUCCCGAAUACCGACAAA...   \n",
              "1  AUGUUUCGCAUCACCAACAUUGAGUUUCUUCCCGAAUACCGACAAA...   \n",
              "\n",
              "                                             Protein  protein_count  \n",
              "0  MFRITNIEFLPEYRQKESREFLSVSRTVQQVINLVYTTSAFSKFYE...            129  \n",
              "1  MFRITNIEFLPEYRQKESREFLSVSRTVQQVINLVYTTSAFSKFYE...            717  "
            ],
            "text/html": [
              "\n",
              "\n",
              "  <div id=\"df-b1e2bcf2-3316-432d-a458-dac4b3dc9279\">\n",
              "    <div class=\"colab-df-container\">\n",
              "      <div>\n",
              "<style scoped>\n",
              "    .dataframe tbody tr th:only-of-type {\n",
              "        vertical-align: middle;\n",
              "    }\n",
              "\n",
              "    .dataframe tbody tr th {\n",
              "        vertical-align: top;\n",
              "    }\n",
              "\n",
              "    .dataframe thead th {\n",
              "        text-align: right;\n",
              "    }\n",
              "</style>\n",
              "<table border=\"1\" class=\"dataframe\">\n",
              "  <thead>\n",
              "    <tr style=\"text-align: right;\">\n",
              "      <th></th>\n",
              "      <th>ID</th>\n",
              "      <th>DNA</th>\n",
              "      <th>RNA</th>\n",
              "      <th>Protein</th>\n",
              "      <th>protein_count</th>\n",
              "    </tr>\n",
              "  </thead>\n",
              "  <tbody>\n",
              "    <tr>\n",
              "      <th>0</th>\n",
              "      <td>ENST00000435737.5</td>\n",
              "      <td>ATGTTTCGCATCACCAACATTGAGTTTCTTCCCGAATACCGACAAA...</td>\n",
              "      <td>AUGUUUCGCAUCACCAACAUUGAGUUUCUUCCCGAAUACCGACAAA...</td>\n",
              "      <td>MFRITNIEFLPEYRQKESREFLSVSRTVQQVINLVYTTSAFSKFYE...</td>\n",
              "      <td>129</td>\n",
              "    </tr>\n",
              "    <tr>\n",
              "      <th>1</th>\n",
              "      <td>ENST00000419127.5</td>\n",
              "      <td>ATGTTTCGCATCACCAACATTGAGTTTCTTCCCGAATACCGACAAA...</td>\n",
              "      <td>AUGUUUCGCAUCACCAACAUUGAGUUUCUUCCCGAAUACCGACAAA...</td>\n",
              "      <td>MFRITNIEFLPEYRQKESREFLSVSRTVQQVINLVYTTSAFSKFYE...</td>\n",
              "      <td>717</td>\n",
              "    </tr>\n",
              "  </tbody>\n",
              "</table>\n",
              "</div>\n",
              "      <button class=\"colab-df-convert\" onclick=\"convertToInteractive('df-b1e2bcf2-3316-432d-a458-dac4b3dc9279')\"\n",
              "              title=\"Convert this dataframe to an interactive table.\"\n",
              "              style=\"display:none;\">\n",
              "\n",
              "  <svg xmlns=\"http://www.w3.org/2000/svg\" height=\"24px\"viewBox=\"0 0 24 24\"\n",
              "       width=\"24px\">\n",
              "    <path d=\"M0 0h24v24H0V0z\" fill=\"none\"/>\n",
              "    <path d=\"M18.56 5.44l.94 2.06.94-2.06 2.06-.94-2.06-.94-.94-2.06-.94 2.06-2.06.94zm-11 1L8.5 8.5l.94-2.06 2.06-.94-2.06-.94L8.5 2.5l-.94 2.06-2.06.94zm10 10l.94 2.06.94-2.06 2.06-.94-2.06-.94-.94-2.06-.94 2.06-2.06.94z\"/><path d=\"M17.41 7.96l-1.37-1.37c-.4-.4-.92-.59-1.43-.59-.52 0-1.04.2-1.43.59L10.3 9.45l-7.72 7.72c-.78.78-.78 2.05 0 2.83L4 21.41c.39.39.9.59 1.41.59.51 0 1.02-.2 1.41-.59l7.78-7.78 2.81-2.81c.8-.78.8-2.07 0-2.86zM5.41 20L4 18.59l7.72-7.72 1.47 1.35L5.41 20z\"/>\n",
              "  </svg>\n",
              "      </button>\n",
              "\n",
              "\n",
              "\n",
              "    <div id=\"df-2cdbfc11-51e3-415b-b502-15dfd64aa7ff\">\n",
              "      <button class=\"colab-df-quickchart\" onclick=\"quickchart('df-2cdbfc11-51e3-415b-b502-15dfd64aa7ff')\"\n",
              "              title=\"Suggest charts.\"\n",
              "              style=\"display:none;\">\n",
              "\n",
              "<svg xmlns=\"http://www.w3.org/2000/svg\" height=\"24px\"viewBox=\"0 0 24 24\"\n",
              "     width=\"24px\">\n",
              "    <g>\n",
              "        <path d=\"M19 3H5c-1.1 0-2 .9-2 2v14c0 1.1.9 2 2 2h14c1.1 0 2-.9 2-2V5c0-1.1-.9-2-2-2zM9 17H7v-7h2v7zm4 0h-2V7h2v10zm4 0h-2v-4h2v4z\"/>\n",
              "    </g>\n",
              "</svg>\n",
              "      </button>\n",
              "    </div>\n",
              "\n",
              "<style>\n",
              "  .colab-df-quickchart {\n",
              "    background-color: #E8F0FE;\n",
              "    border: none;\n",
              "    border-radius: 50%;\n",
              "    cursor: pointer;\n",
              "    display: none;\n",
              "    fill: #1967D2;\n",
              "    height: 32px;\n",
              "    padding: 0 0 0 0;\n",
              "    width: 32px;\n",
              "  }\n",
              "\n",
              "  .colab-df-quickchart:hover {\n",
              "    background-color: #E2EBFA;\n",
              "    box-shadow: 0px 1px 2px rgba(60, 64, 67, 0.3), 0px 1px 3px 1px rgba(60, 64, 67, 0.15);\n",
              "    fill: #174EA6;\n",
              "  }\n",
              "\n",
              "  [theme=dark] .colab-df-quickchart {\n",
              "    background-color: #3B4455;\n",
              "    fill: #D2E3FC;\n",
              "  }\n",
              "\n",
              "  [theme=dark] .colab-df-quickchart:hover {\n",
              "    background-color: #434B5C;\n",
              "    box-shadow: 0px 1px 3px 1px rgba(0, 0, 0, 0.15);\n",
              "    filter: drop-shadow(0px 1px 2px rgba(0, 0, 0, 0.3));\n",
              "    fill: #FFFFFF;\n",
              "  }\n",
              "</style>\n",
              "\n",
              "    <script>\n",
              "      async function quickchart(key) {\n",
              "        const containerElement = document.querySelector('#' + key);\n",
              "        const charts = await google.colab.kernel.invokeFunction(\n",
              "            'suggestCharts', [key], {});\n",
              "      }\n",
              "    </script>\n",
              "\n",
              "      <script>\n",
              "\n",
              "function displayQuickchartButton(domScope) {\n",
              "  let quickchartButtonEl =\n",
              "    domScope.querySelector('#df-2cdbfc11-51e3-415b-b502-15dfd64aa7ff button.colab-df-quickchart');\n",
              "  quickchartButtonEl.style.display =\n",
              "    google.colab.kernel.accessAllowed ? 'block' : 'none';\n",
              "}\n",
              "\n",
              "        displayQuickchartButton(document);\n",
              "      </script>\n",
              "      <style>\n",
              "    .colab-df-container {\n",
              "      display:flex;\n",
              "      flex-wrap:wrap;\n",
              "      gap: 12px;\n",
              "    }\n",
              "\n",
              "    .colab-df-convert {\n",
              "      background-color: #E8F0FE;\n",
              "      border: none;\n",
              "      border-radius: 50%;\n",
              "      cursor: pointer;\n",
              "      display: none;\n",
              "      fill: #1967D2;\n",
              "      height: 32px;\n",
              "      padding: 0 0 0 0;\n",
              "      width: 32px;\n",
              "    }\n",
              "\n",
              "    .colab-df-convert:hover {\n",
              "      background-color: #E2EBFA;\n",
              "      box-shadow: 0px 1px 2px rgba(60, 64, 67, 0.3), 0px 1px 3px 1px rgba(60, 64, 67, 0.15);\n",
              "      fill: #174EA6;\n",
              "    }\n",
              "\n",
              "    [theme=dark] .colab-df-convert {\n",
              "      background-color: #3B4455;\n",
              "      fill: #D2E3FC;\n",
              "    }\n",
              "\n",
              "    [theme=dark] .colab-df-convert:hover {\n",
              "      background-color: #434B5C;\n",
              "      box-shadow: 0px 1px 3px 1px rgba(0, 0, 0, 0.15);\n",
              "      filter: drop-shadow(0px 1px 2px rgba(0, 0, 0, 0.3));\n",
              "      fill: #FFFFFF;\n",
              "    }\n",
              "  </style>\n",
              "\n",
              "      <script>\n",
              "        const buttonEl =\n",
              "          document.querySelector('#df-b1e2bcf2-3316-432d-a458-dac4b3dc9279 button.colab-df-convert');\n",
              "        buttonEl.style.display =\n",
              "          google.colab.kernel.accessAllowed ? 'block' : 'none';\n",
              "\n",
              "        async function convertToInteractive(key) {\n",
              "          const element = document.querySelector('#df-b1e2bcf2-3316-432d-a458-dac4b3dc9279');\n",
              "          const dataTable =\n",
              "            await google.colab.kernel.invokeFunction('convertToInteractive',\n",
              "                                                     [key], {});\n",
              "          if (!dataTable) return;\n",
              "\n",
              "          const docLinkHtml = 'Like what you see? Visit the ' +\n",
              "            '<a target=\"_blank\" href=https://colab.research.google.com/notebooks/data_table.ipynb>data table notebook</a>'\n",
              "            + ' to learn more about interactive tables.';\n",
              "          element.innerHTML = '';\n",
              "          dataTable['output_type'] = 'display_data';\n",
              "          await google.colab.output.renderOutput(dataTable, element);\n",
              "          const docLink = document.createElement('div');\n",
              "          docLink.innerHTML = docLinkHtml;\n",
              "          element.appendChild(docLink);\n",
              "        }\n",
              "      </script>\n",
              "    </div>\n",
              "  </div>\n"
            ]
          },
          "metadata": {},
          "execution_count": 30
        }
      ]
    },
    {
      "cell_type": "code",
      "source": [
        "# Create a bargraph [figure and a subplot] to show the frequency of unique proteins\n",
        "fig, ax = plt.subplots(seq_df.shape[0], 1, figsize=(10, 10))\n",
        "\n",
        "# Loop over rows of dataframe and plot bar charts\n",
        "for i, (index, row) in enumerate(seq_df.iterrows()):\n",
        "    # Get protein sequence and count for each row\n",
        "    protein = row[\"Protein\"]\n",
        "    protein_count = row[\"protein_count\"]\n",
        "    # Count amino acids for each protein sequence\n",
        "    analysed_protein = ProteinAnalysis(protein) # create ProteinAnalysis object\n",
        "    aa_count = analysed_protein.count_amino_acids() # store amino acid count in variable\n",
        "    # Plot bar chart for each row\n",
        "    ax[i].bar(aa_count.keys(), aa_count.values())\n",
        "    # Set xtick positions and labels\n",
        "    ax[i].set_xticks(range(len(aa_count)))\n",
        "    ax[i].set_xticklabels(aa_count.keys())\n",
        "    # Set title for each subplot\n",
        "    # ax[i].set_title(f\"{protein} ({protein_count} amino acids)\")\n",
        "    ax[i].set_title(\"Amino Acids\")\n",
        "\n",
        "# Adjust layout\n",
        "plt.tight_layout()\n",
        "\n",
        "# Save or show figure\n",
        "plt.savefig(\"protein_graph.png\") # save to file\n",
        "# plt.show() # show on screen"
      ],
      "metadata": {
        "id": "pf9X73I5NPaz",
        "colab": {
          "base_uri": "https://localhost:8080/",
          "height": 960
        },
        "outputId": "801abfa8-9053-4d96-861f-cff67b9399f7"
      },
      "execution_count": 31,
      "outputs": [
        {
          "output_type": "display_data",
          "data": {
            "text/plain": [
              "<Figure size 1000x1000 with 2 Axes>"
            ],
            "image/png": "[encoded data removed]"
          },
          "metadata": {}
        }
      ]
    },
    {
      "cell_type": "markdown",
      "source": [
        "___________________________________________"
      ],
      "metadata": {
        "id": "y-YqNDg47F-4"
      }
    },
    {
      "cell_type": "code",
      "source": [
        "\n",
        "# Function to convert DNA sequence to ordinal encoding\n",
        "def string_to_array(seq_string):\n",
        "    seq_string = seq_string.lower()\n",
        "    seq_string = re.sub('[^acgt]', 'n', seq_string)\n",
        "    seq_string = np.array(list(seq_string))\n",
        "    return seq_string\n",
        "\n",
        "# Function to encode DNA sequence in an ordinal vector\n",
        "def ordinal_encoder(my_array):\n",
        "    label_encoder = LabelEncoder()\n",
        "    label_encoder.fit(np.array(['a', 'c', 'g', 't', 'n']))\n",
        "    integer_encoded = label_encoder.transform(my_array)\n",
        "    float_encoded = integer_encoded.astype(float)\n",
        "    float_encoded[float_encoded == 0] = 0.25  # A\n",
        "    float_encoded[float_encoded == 1] = 0.50  # C\n",
        "    float_encoded[float_encoded == 2] = 0.75  # G\n",
        "    float_encoded[float_encoded == 3] = 1.00  # T\n",
        "    float_encoded[float_encoded == 4] = 0.00  # N\n",
        "    return float_encoded\n",
        "\n",
        "# Function to perform one-hot encoding of DNA sequence\n",
        "def one_hot_encoder(seq_string):\n",
        "    label_encoder = LabelEncoder()\n",
        "    label_encoder.fit(np.array(['a', 'c', 'g', 't', 'n']))\n",
        "    int_encoded = label_encoder.transform(seq_string)\n",
        "    onehot_encoder = OneHotEncoder(sparse=False, dtype=int)\n",
        "    int_encoded = int_encoded.reshape(len(int_encoded), 1)\n",
        "    onehot_encoded = onehot_encoder.fit_transform(int_encoded)\n",
        "    onehot_encoded = np.delete(onehot_encoded, -1, 1)\n",
        "    return onehot_encoded\n",
        "\n",
        "# Function to generate k-mers from DNA sequence\n",
        "def Kmers_funct(seq, size):\n",
        "    return [seq[x:x+size].lower() for x in range(len(seq) - size + 1)]\n"
      ],
      "metadata": {
        "id": "tUJJQ2Jq7GOK"
      },
      "execution_count": 4,
      "outputs": []
    },
    {
      "cell_type": "code",
      "source": [
        "\n",
        "# Load DNA sequences from file\n",
        "sequences = []\n",
        "for sequence in SeqIO.parse('example_dna.fa', 'fasta'):\n",
        "    sequences.append(sequence.seq)\n",
        "\n"
      ],
      "metadata": {
        "id": "fwdZwtws7gJ1"
      },
      "execution_count": 6,
      "outputs": []
    },
    {
      "cell_type": "code",
      "source": [
        "seq_list = [{'ID': sequence.id, 'DNA': str(sequence.seq)} for record in sequences]\n"
      ],
      "metadata": {
        "id": "xIlPwpqj8U9X"
      },
      "execution_count": 8,
      "outputs": []
    },
    {
      "cell_type": "code",
      "source": [
        "seq_df = pd.DataFrame(seq_list)"
      ],
      "metadata": {
        "id": "VslwD3bR8Y4H"
      },
      "execution_count": 9,
      "outputs": []
    },
    {
      "cell_type": "code",
      "source": [
        "seq_df"
      ],
      "metadata": {
        "colab": {
          "base_uri": "https://localhost:8080/",
          "height": 112
        },
        "id": "XaRGjLLB8uX-",
        "outputId": "55eb2320-d049-46d0-a209-4e80ed7423af"
      },
      "execution_count": 10,
      "outputs": [
        {
          "output_type": "execute_result",
          "data": {
            "text/plain": [
              "                  ID                                                DNA\n",
              "0  ENST00000419127.5  ATGTTTCGCATCACCAACATTGAGTTTCTTCCCGAATACCGACAAA...\n",
              "1  ENST00000419127.5  ATGTTTCGCATCACCAACATTGAGTTTCTTCCCGAATACCGACAAA..."
            ],
            "text/html": [
              "\n",
              "\n",
              "  <div id=\"df-c9d51a61-63ee-40ce-8bcc-80eb6af8d8c4\">\n",
              "    <div class=\"colab-df-container\">\n",
              "      <div>\n",
              "<style scoped>\n",
              "    .dataframe tbody tr th:only-of-type {\n",
              "        vertical-align: middle;\n",
              "    }\n",
              "\n",
              "    .dataframe tbody tr th {\n",
              "        vertical-align: top;\n",
              "    }\n",
              "\n",
              "    .dataframe thead th {\n",
              "        text-align: right;\n",
              "    }\n",
              "</style>\n",
              "<table border=\"1\" class=\"dataframe\">\n",
              "  <thead>\n",
              "    <tr style=\"text-align: right;\">\n",
              "      <th></th>\n",
              "      <th>ID</th>\n",
              "      <th>DNA</th>\n",
              "    </tr>\n",
              "  </thead>\n",
              "  <tbody>\n",
              "    <tr>\n",
              "      <th>0</th>\n",
              "      <td>ENST00000419127.5</td>\n",
              "      <td>ATGTTTCGCATCACCAACATTGAGTTTCTTCCCGAATACCGACAAA...</td>\n",
              "    </tr>\n",
              "    <tr>\n",
              "      <th>1</th>\n",
              "      <td>ENST00000419127.5</td>\n",
              "      <td>ATGTTTCGCATCACCAACATTGAGTTTCTTCCCGAATACCGACAAA...</td>\n",
              "    </tr>\n",
              "  </tbody>\n",
              "</table>\n",
              "</div>\n",
              "      <button class=\"colab-df-convert\" onclick=\"convertToInteractive('df-c9d51a61-63ee-40ce-8bcc-80eb6af8d8c4')\"\n",
              "              title=\"Convert this dataframe to an interactive table.\"\n",
              "              style=\"display:none;\">\n",
              "\n",
              "  <svg xmlns=\"http://www.w3.org/2000/svg\" height=\"24px\"viewBox=\"0 0 24 24\"\n",
              "       width=\"24px\">\n",
              "    <path d=\"M0 0h24v24H0V0z\" fill=\"none\"/>\n",
              "    <path d=\"M18.56 5.44l.94 2.06.94-2.06 2.06-.94-2.06-.94-.94-2.06-.94 2.06-2.06.94zm-11 1L8.5 8.5l.94-2.06 2.06-.94-2.06-.94L8.5 2.5l-.94 2.06-2.06.94zm10 10l.94 2.06.94-2.06 2.06-.94-2.06-.94-.94-2.06-.94 2.06-2.06.94z\"/><path d=\"M17.41 7.96l-1.37-1.37c-.4-.4-.92-.59-1.43-.59-.52 0-1.04.2-1.43.59L10.3 9.45l-7.72 7.72c-.78.78-.78 2.05 0 2.83L4 21.41c.39.39.9.59 1.41.59.51 0 1.02-.2 1.41-.59l7.78-7.78 2.81-2.81c.8-.78.8-2.07 0-2.86zM5.41 20L4 18.59l7.72-7.72 1.47 1.35L5.41 20z\"/>\n",
              "  </svg>\n",
              "      </button>\n",
              "\n",
              "\n",
              "\n",
              "    <div id=\"df-a456be5d-66ef-49a7-b666-eae7d17b3d97\">\n",
              "      <button class=\"colab-df-quickchart\" onclick=\"quickchart('df-a456be5d-66ef-49a7-b666-eae7d17b3d97')\"\n",
              "              title=\"Suggest charts.\"\n",
              "              style=\"display:none;\">\n",
              "\n",
              "<svg xmlns=\"http://www.w3.org/2000/svg\" height=\"24px\"viewBox=\"0 0 24 24\"\n",
              "     width=\"24px\">\n",
              "    <g>\n",
              "        <path d=\"M19 3H5c-1.1 0-2 .9-2 2v14c0 1.1.9 2 2 2h14c1.1 0 2-.9 2-2V5c0-1.1-.9-2-2-2zM9 17H7v-7h2v7zm4 0h-2V7h2v10zm4 0h-2v-4h2v4z\"/>\n",
              "    </g>\n",
              "</svg>\n",
              "      </button>\n",
              "    </div>\n",
              "\n",
              "<style>\n",
              "  .colab-df-quickchart {\n",
              "    background-color: #E8F0FE;\n",
              "    border: none;\n",
              "    border-radius: 50%;\n",
              "    cursor: pointer;\n",
              "    display: none;\n",
              "    fill: #1967D2;\n",
              "    height: 32px;\n",
              "    padding: 0 0 0 0;\n",
              "    width: 32px;\n",
              "  }\n",
              "\n",
              "  .colab-df-quickchart:hover {\n",
              "    background-color: #E2EBFA;\n",
              "    box-shadow: 0px 1px 2px rgba(60, 64, 67, 0.3), 0px 1px 3px 1px rgba(60, 64, 67, 0.15);\n",
              "    fill: #174EA6;\n",
              "  }\n",
              "\n",
              "  [theme=dark] .colab-df-quickchart {\n",
              "    background-color: #3B4455;\n",
              "    fill: #D2E3FC;\n",
              "  }\n",
              "\n",
              "  [theme=dark] .colab-df-quickchart:hover {\n",
              "    background-color: #434B5C;\n",
              "    box-shadow: 0px 1px 3px 1px rgba(0, 0, 0, 0.15);\n",
              "    filter: drop-shadow(0px 1px 2px rgba(0, 0, 0, 0.3));\n",
              "    fill: #FFFFFF;\n",
              "  }\n",
              "</style>\n",
              "\n",
              "    <script>\n",
              "      async function quickchart(key) {\n",
              "        const containerElement = document.querySelector('#' + key);\n",
              "        const charts = await google.colab.kernel.invokeFunction(\n",
              "            'suggestCharts', [key], {});\n",
              "      }\n",
              "    </script>\n",
              "\n",
              "      <script>\n",
              "\n",
              "function displayQuickchartButton(domScope) {\n",
              "  let quickchartButtonEl =\n",
              "    domScope.querySelector('#df-a456be5d-66ef-49a7-b666-eae7d17b3d97 button.colab-df-quickchart');\n",
              "  quickchartButtonEl.style.display =\n",
              "    google.colab.kernel.accessAllowed ? 'block' : 'none';\n",
              "}\n",
              "\n",
              "        displayQuickchartButton(document);\n",
              "      </script>\n",
              "      <style>\n",
              "    .colab-df-container {\n",
              "      display:flex;\n",
              "      flex-wrap:wrap;\n",
              "      gap: 12px;\n",
              "    }\n",
              "\n",
              "    .colab-df-convert {\n",
              "      background-color: #E8F0FE;\n",
              "      border: none;\n",
              "      border-radius: 50%;\n",
              "      cursor: pointer;\n",
              "      display: none;\n",
              "      fill: #1967D2;\n",
              "      height: 32px;\n",
              "      padding: 0 0 0 0;\n",
              "      width: 32px;\n",
              "    }\n",
              "\n",
              "    .colab-df-convert:hover {\n",
              "      background-color: #E2EBFA;\n",
              "      box-shadow: 0px 1px 2px rgba(60, 64, 67, 0.3), 0px 1px 3px 1px rgba(60, 64, 67, 0.15);\n",
              "      fill: #174EA6;\n",
              "    }\n",
              "\n",
              "    [theme=dark] .colab-df-convert {\n",
              "      background-color: #3B4455;\n",
              "      fill: #D2E3FC;\n",
              "    }\n",
              "\n",
              "    [theme=dark] .colab-df-convert:hover {\n",
              "      background-color: #434B5C;\n",
              "      box-shadow: 0px 1px 3px 1px rgba(0, 0, 0, 0.15);\n",
              "      filter: drop-shadow(0px 1px 2px rgba(0, 0, 0, 0.3));\n",
              "      fill: #FFFFFF;\n",
              "    }\n",
              "  </style>\n",
              "\n",
              "      <script>\n",
              "        const buttonEl =\n",
              "          document.querySelector('#df-c9d51a61-63ee-40ce-8bcc-80eb6af8d8c4 button.colab-df-convert');\n",
              "        buttonEl.style.display =\n",
              "          google.colab.kernel.accessAllowed ? 'block' : 'none';\n",
              "\n",
              "        async function convertToInteractive(key) {\n",
              "          const element = document.querySelector('#df-c9d51a61-63ee-40ce-8bcc-80eb6af8d8c4');\n",
              "          const dataTable =\n",
              "            await google.colab.kernel.invokeFunction('convertToInteractive',\n",
              "                                                     [key], {});\n",
              "          if (!dataTable) return;\n",
              "\n",
              "          const docLinkHtml = 'Like what you see? Visit the ' +\n",
              "            '<a target=\"_blank\" href=https://colab.research.google.com/notebooks/data_table.ipynb>data table notebook</a>'\n",
              "            + ' to learn more about interactive tables.';\n",
              "          element.innerHTML = '';\n",
              "          dataTable['output_type'] = 'display_data';\n",
              "          await google.colab.output.renderOutput(dataTable, element);\n",
              "          const docLink = document.createElement('div');\n",
              "          docLink.innerHTML = docLinkHtml;\n",
              "          element.appendChild(docLink);\n",
              "        }\n",
              "      </script>\n",
              "    </div>\n",
              "  </div>\n"
            ]
          },
          "metadata": {},
          "execution_count": 10
        }
      ]
    },
    {
      "cell_type": "code",
      "source": [
        "# Create a new column for k-mer joined sentences\n",
        "seq_df['Kmers'] = seq_df.apply(lambda x: Kmers_funct(x['DNA'], size=6), axis=1)\n",
        "seq_df['Kmers'] = seq_df.apply(lambda x: ' '.join(x['Kmers']), axis=1)\n"
      ],
      "metadata": {
        "id": "3jvpRx807kWV"
      },
      "execution_count": 11,
      "outputs": []
    },
    {
      "cell_type": "code",
      "source": [
        "\n",
        "# Create a new column for gene labels (extracted from the ID column)\n",
        "seq_df['Gene'] = seq_df.apply(lambda x: x['ID'].split('_')[0], axis=1)\n"
      ],
      "metadata": {
        "id": "BHD_O_aP7oWL"
      },
      "execution_count": 12,
      "outputs": []
    },
    {
      "cell_type": "code",
      "source": [
        "\n",
        "# Create a new column for disease labels (extracted from the ID column)\n",
        "# seq_df['Disease'] = seq_df.apply(lambda x: x['ID'].split('_')[1], axis=1)\n",
        "# Create a new column for disease labels (extracted from the ID column)\n",
        "def extract_disease_label(row):\n",
        "    id_parts = row['ID'].split('_')\n",
        "    return id_parts[1] if len(id_parts) > 1 else ''\n",
        "\n",
        "seq_df['Disease'] = seq_df.apply(extract_disease_label, axis=1)\n"
      ],
      "metadata": {
        "id": "5pXRnnqk7rXW"
      },
      "execution_count": 15,
      "outputs": []
    },
    {
      "cell_type": "code",
      "source": [
        "seq_df"
      ],
      "metadata": {
        "colab": {
          "base_uri": "https://localhost:8080/",
          "height": 260
        },
        "id": "EYjV3EaV859G",
        "outputId": "25b05574-f021-4913-c51d-21294d57d20d"
      },
      "execution_count": 16,
      "outputs": [
        {
          "output_type": "execute_result",
          "data": {
            "text/plain": [
              "                  ID                                                DNA  \\\n",
              "0  ENST00000419127.5  ATGTTTCGCATCACCAACATTGAGTTTCTTCCCGAATACCGACAAA...   \n",
              "1  ENST00000419127.5  ATGTTTCGCATCACCAACATTGAGTTTCTTCCCGAATACCGACAAA...   \n",
              "\n",
              "                                               Kmers               Gene  \\\n",
              "0  atgttt tgtttc gtttcg tttcgc ttcgca tcgcat cgca...  ENST00000419127.5   \n",
              "1  atgttt tgtttc gtttcg tttcgc ttcgca tcgcat cgca...  ENST00000419127.5   \n",
              "\n",
              "  Disease  \n",
              "0          \n",
              "1          "
            ],
            "text/html": [
              "\n",
              "\n",
              "  <div id=\"df-3ff835a4-36aa-4b33-bff8-028ef0524c75\">\n",
              "    <div class=\"colab-df-container\">\n",
              "      <div>\n",
              "<style scoped>\n",
              "    .dataframe tbody tr th:only-of-type {\n",
              "        vertical-align: middle;\n",
              "    }\n",
              "\n",
              "    .dataframe tbody tr th {\n",
              "        vertical-align: top;\n",
              "    }\n",
              "\n",
              "    .dataframe thead th {\n",
              "        text-align: right;\n",
              "    }\n",
              "</style>\n",
              "<table border=\"1\" class=\"dataframe\">\n",
              "  <thead>\n",
              "    <tr style=\"text-align: right;\">\n",
              "      <th></th>\n",
              "      <th>ID</th>\n",
              "      <th>DNA</th>\n",
              "      <th>Kmers</th>\n",
              "      <th>Gene</th>\n",
              "      <th>Disease</th>\n",
              "    </tr>\n",
              "  </thead>\n",
              "  <tbody>\n",
              "    <tr>\n",
              "      <th>0</th>\n",
              "      <td>ENST00000419127.5</td>\n",
              "      <td>ATGTTTCGCATCACCAACATTGAGTTTCTTCCCGAATACCGACAAA...</td>\n",
              "      <td>atgttt tgtttc gtttcg tttcgc ttcgca tcgcat cgca...</td>\n",
              "      <td>ENST00000419127.5</td>\n",
              "      <td></td>\n",
              "    </tr>\n",
              "    <tr>\n",
              "      <th>1</th>\n",
              "      <td>ENST00000419127.5</td>\n",
              "      <td>ATGTTTCGCATCACCAACATTGAGTTTCTTCCCGAATACCGACAAA...</td>\n",
              "      <td>atgttt tgtttc gtttcg tttcgc ttcgca tcgcat cgca...</td>\n",
              "      <td>ENST00000419127.5</td>\n",
              "      <td></td>\n",
              "    </tr>\n",
              "  </tbody>\n",
              "</table>\n",
              "</div>\n",
              "      <button class=\"colab-df-convert\" onclick=\"convertToInteractive('df-3ff835a4-36aa-4b33-bff8-028ef0524c75')\"\n",
              "              title=\"Convert this dataframe to an interactive table.\"\n",
              "              style=\"display:none;\">\n",
              "\n",
              "  <svg xmlns=\"http://www.w3.org/2000/svg\" height=\"24px\"viewBox=\"0 0 24 24\"\n",
              "       width=\"24px\">\n",
              "    <path d=\"M0 0h24v24H0V0z\" fill=\"none\"/>\n",
              "    <path d=\"M18.56 5.44l.94 2.06.94-2.06 2.06-.94-2.06-.94-.94-2.06-.94 2.06-2.06.94zm-11 1L8.5 8.5l.94-2.06 2.06-.94-2.06-.94L8.5 2.5l-.94 2.06-2.06.94zm10 10l.94 2.06.94-2.06 2.06-.94-2.06-.94-.94-2.06-.94 2.06-2.06.94z\"/><path d=\"M17.41 7.96l-1.37-1.37c-.4-.4-.92-.59-1.43-.59-.52 0-1.04.2-1.43.59L10.3 9.45l-7.72 7.72c-.78.78-.78 2.05 0 2.83L4 21.41c.39.39.9.59 1.41.59.51 0 1.02-.2 1.41-.59l7.78-7.78 2.81-2.81c.8-.78.8-2.07 0-2.86zM5.41 20L4 18.59l7.72-7.72 1.47 1.35L5.41 20z\"/>\n",
              "  </svg>\n",
              "      </button>\n",
              "\n",
              "\n",
              "\n",
              "    <div id=\"df-e6460425-6040-4f37-80f3-9a55a2925dda\">\n",
              "      <button class=\"colab-df-quickchart\" onclick=\"quickchart('df-e6460425-6040-4f37-80f3-9a55a2925dda')\"\n",
              "              title=\"Suggest charts.\"\n",
              "              style=\"display:none;\">\n",
              "\n",
              "<svg xmlns=\"http://www.w3.org/2000/svg\" height=\"24px\"viewBox=\"0 0 24 24\"\n",
              "     width=\"24px\">\n",
              "    <g>\n",
              "        <path d=\"M19 3H5c-1.1 0-2 .9-2 2v14c0 1.1.9 2 2 2h14c1.1 0 2-.9 2-2V5c0-1.1-.9-2-2-2zM9 17H7v-7h2v7zm4 0h-2V7h2v10zm4 0h-2v-4h2v4z\"/>\n",
              "    </g>\n",
              "</svg>\n",
              "      </button>\n",
              "    </div>\n",
              "\n",
              "<style>\n",
              "  .colab-df-quickchart {\n",
              "    background-color: #E8F0FE;\n",
              "    border: none;\n",
              "    border-radius: 50%;\n",
              "    cursor: pointer;\n",
              "    display: none;\n",
              "    fill: #1967D2;\n",
              "    height: 32px;\n",
              "    padding: 0 0 0 0;\n",
              "    width: 32px;\n",
              "  }\n",
              "\n",
              "  .colab-df-quickchart:hover {\n",
              "    background-color: #E2EBFA;\n",
              "    box-shadow: 0px 1px 2px rgba(60, 64, 67, 0.3), 0px 1px 3px 1px rgba(60, 64, 67, 0.15);\n",
              "    fill: #174EA6;\n",
              "  }\n",
              "\n",
              "  [theme=dark] .colab-df-quickchart {\n",
              "    background-color: #3B4455;\n",
              "    fill: #D2E3FC;\n",
              "  }\n",
              "\n",
              "  [theme=dark] .colab-df-quickchart:hover {\n",
              "    background-color: #434B5C;\n",
              "    box-shadow: 0px 1px 3px 1px rgba(0, 0, 0, 0.15);\n",
              "    filter: drop-shadow(0px 1px 2px rgba(0, 0, 0, 0.3));\n",
              "    fill: #FFFFFF;\n",
              "  }\n",
              "</style>\n",
              "\n",
              "    <script>\n",
              "      async function quickchart(key) {\n",
              "        const containerElement = document.querySelector('#' + key);\n",
              "        const charts = await google.colab.kernel.invokeFunction(\n",
              "            'suggestCharts', [key], {});\n",
              "      }\n",
              "    </script>\n",
              "\n",
              "      <script>\n",
              "\n",
              "function displayQuickchartButton(domScope) {\n",
              "  let quickchartButtonEl =\n",
              "    domScope.querySelector('#df-e6460425-6040-4f37-80f3-9a55a2925dda button.colab-df-quickchart');\n",
              "  quickchartButtonEl.style.display =\n",
              "    google.colab.kernel.accessAllowed ? 'block' : 'none';\n",
              "}\n",
              "\n",
              "        displayQuickchartButton(document);\n",
              "      </script>\n",
              "      <style>\n",
              "    .colab-df-container {\n",
              "      display:flex;\n",
              "      flex-wrap:wrap;\n",
              "      gap: 12px;\n",
              "    }\n",
              "\n",
              "    .colab-df-convert {\n",
              "      background-color: #E8F0FE;\n",
              "      border: none;\n",
              "      border-radius: 50%;\n",
              "      cursor: pointer;\n",
              "      display: none;\n",
              "      fill: #1967D2;\n",
              "      height: 32px;\n",
              "      padding: 0 0 0 0;\n",
              "      width: 32px;\n",
              "    }\n",
              "\n",
              "    .colab-df-convert:hover {\n",
              "      background-color: #E2EBFA;\n",
              "      box-shadow: 0px 1px 2px rgba(60, 64, 67, 0.3), 0px 1px 3px 1px rgba(60, 64, 67, 0.15);\n",
              "      fill: #174EA6;\n",
              "    }\n",
              "\n",
              "    [theme=dark] .colab-df-convert {\n",
              "      background-color: #3B4455;\n",
              "      fill: #D2E3FC;\n",
              "    }\n",
              "\n",
              "    [theme=dark] .colab-df-convert:hover {\n",
              "      background-color: #434B5C;\n",
              "      box-shadow: 0px 1px 3px 1px rgba(0, 0, 0, 0.15);\n",
              "      filter: drop-shadow(0px 1px 2px rgba(0, 0, 0, 0.3));\n",
              "      fill: #FFFFFF;\n",
              "    }\n",
              "  </style>\n",
              "\n",
              "      <script>\n",
              "        const buttonEl =\n",
              "          document.querySelector('#df-3ff835a4-36aa-4b33-bff8-028ef0524c75 button.colab-df-convert');\n",
              "        buttonEl.style.display =\n",
              "          google.colab.kernel.accessAllowed ? 'block' : 'none';\n",
              "\n",
              "        async function convertToInteractive(key) {\n",
              "          const element = document.querySelector('#df-3ff835a4-36aa-4b33-bff8-028ef0524c75');\n",
              "          const dataTable =\n",
              "            await google.colab.kernel.invokeFunction('convertToInteractive',\n",
              "                                                     [key], {});\n",
              "          if (!dataTable) return;\n",
              "\n",
              "          const docLinkHtml = 'Like what you see? Visit the ' +\n",
              "            '<a target=\"_blank\" href=https://colab.research.google.com/notebooks/data_table.ipynb>data table notebook</a>'\n",
              "            + ' to learn more about interactive tables.';\n",
              "          element.innerHTML = '';\n",
              "          dataTable['output_type'] = 'display_data';\n",
              "          await google.colab.output.renderOutput(dataTable, element);\n",
              "          const docLink = document.createElement('div');\n",
              "          docLink.innerHTML = docLinkHtml;\n",
              "          element.appendChild(docLink);\n",
              "        }\n",
              "      </script>\n",
              "    </div>\n",
              "  </div>\n"
            ]
          },
          "metadata": {},
          "execution_count": 16
        }
      ]
    },
    {
      "cell_type": "code",
      "source": [
        "\n",
        "# Split the data into train and test sets\n",
        "X_train, X_test, y_train_gene, y_test_gene, y_train_disease, y_test_disease = train_test_split(\n",
        "    seq_df['Kmers'], seq_df['Gene'], seq_df['Disease'], test_size=0.2, random_state=42)\n"
      ],
      "metadata": {
        "id": "5NfzsdZI7t_z"
      },
      "execution_count": 17,
      "outputs": []
    },
    {
      "cell_type": "code",
      "source": [
        "print(len(X_train), len(X_test), len(y_train_gene), len(y_test_gene), len(y_train_disease), len(y_test_disease))\n"
      ],
      "metadata": {
        "colab": {
          "base_uri": "https://localhost:8080/"
        },
        "id": "og5D8DV1DoNC",
        "outputId": "7c9b280a-b04b-4f54-8753-d7eec9299c53"
      },
      "execution_count": 32,
      "outputs": [
        {
          "output_type": "stream",
          "name": "stdout",
          "text": [
            "1 1 1 1 1 1\n"
          ]
        }
      ]
    },
    {
      "cell_type": "code",
      "source": [
        "\n",
        "# Vectorize the k-mer sentences using CountVectorizer\n",
        "cv = CountVectorizer(ngram_range=(4,4))\n",
        "X_train_cv = cv.fit_transform(X_train)\n",
        "X_test_cv = cv.transform(X_test)\n"
      ],
      "metadata": {
        "id": "y3HhQyld7xq_"
      },
      "execution_count": 18,
      "outputs": []
    },
    {
      "cell_type": "code",
      "source": [
        "# Train the Naive Bayes classifier for gene classification\n",
        "nb_classifier = GaussianNB()\n",
        "nb_classifier.fit(X_train_cv.toarray(), y_train_gene)\n"
      ],
      "metadata": {
        "colab": {
          "base_uri": "https://localhost:8080/",
          "height": 75
        },
        "id": "6G-lmIMX70SB",
        "outputId": "bd56f63e-0e45-4077-b1b5-f6c24d7b9f07"
      },
      "execution_count": 19,
      "outputs": [
        {
          "output_type": "execute_result",
          "data": {
            "text/plain": [
              "GaussianNB()"
            ],
            "text/html": [
              "<style>#sk-container-id-1 {color: black;background-color: white;}#sk-container-id-1 pre{padding: 0;}#sk-container-id-1 div.sk-toggleable {background-color: white;}#sk-container-id-1 label.sk-toggleable__label {cursor: pointer;display: block;width: 100%;margin-bottom: 0;padding: 0.3em;box-sizing: border-box;text-align: center;}#sk-container-id-1 label.sk-toggleable__label-arrow:before {content: \"▸\";float: left;margin-right: 0.25em;color: #696969;}#sk-container-id-1 label.sk-toggleable__label-arrow:hover:before {color: black;}#sk-container-id-1 div.sk-estimator:hover label.sk-toggleable__label-arrow:before {color: black;}#sk-container-id-1 div.sk-toggleable__content {max-height: 0;max-width: 0;overflow: hidden;text-align: left;background-color: #f0f8ff;}#sk-container-id-1 div.sk-toggleable__content pre {margin: 0.2em;color: black;border-radius: 0.25em;background-color: #f0f8ff;}#sk-container-id-1 input.sk-toggleable__control:checked~div.sk-toggleable__content {max-height: 200px;max-width: 100%;overflow: auto;}#sk-container-id-1 input.sk-toggleable__control:checked~label.sk-toggleable__label-arrow:before {content: \"▾\";}#sk-container-id-1 div.sk-estimator input.sk-toggleable__control:checked~label.sk-toggleable__label {background-color: #d4ebff;}#sk-container-id-1 div.sk-label input.sk-toggleable__control:checked~label.sk-toggleable__label {background-color: #d4ebff;}#sk-container-id-1 input.sk-hidden--visually {border: 0;clip: rect(1px 1px 1px 1px);clip: rect(1px, 1px, 1px, 1px);height: 1px;margin: -1px;overflow: hidden;padding: 0;position: absolute;width: 1px;}#sk-container-id-1 div.sk-estimator {font-family: monospace;background-color: #f0f8ff;border: 1px dotted black;border-radius: 0.25em;box-sizing: border-box;margin-bottom: 0.5em;}#sk-container-id-1 div.sk-estimator:hover {background-color: #d4ebff;}#sk-container-id-1 div.sk-parallel-item::after {content: \"\";width: 100%;border-bottom: 1px solid gray;flex-grow: 1;}#sk-container-id-1 div.sk-label:hover label.sk-toggleable__label {background-color: #d4ebff;}#sk-container-id-1 div.sk-serial::before {content: \"\";position: absolute;border-left: 1px solid gray;box-sizing: border-box;top: 0;bottom: 0;left: 50%;z-index: 0;}#sk-container-id-1 div.sk-serial {display: flex;flex-direction: column;align-items: center;background-color: white;padding-right: 0.2em;padding-left: 0.2em;position: relative;}#sk-container-id-1 div.sk-item {position: relative;z-index: 1;}#sk-container-id-1 div.sk-parallel {display: flex;align-items: stretch;justify-content: center;background-color: white;position: relative;}#sk-container-id-1 div.sk-item::before, #sk-container-id-1 div.sk-parallel-item::before {content: \"\";position: absolute;border-left: 1px solid gray;box-sizing: border-box;top: 0;bottom: 0;left: 50%;z-index: -1;}#sk-container-id-1 div.sk-parallel-item {display: flex;flex-direction: column;z-index: 1;position: relative;background-color: white;}#sk-container-id-1 div.sk-parallel-item:first-child::after {align-self: flex-end;width: 50%;}#sk-container-id-1 div.sk-parallel-item:last-child::after {align-self: flex-start;width: 50%;}#sk-container-id-1 div.sk-parallel-item:only-child::after {width: 0;}#sk-container-id-1 div.sk-dashed-wrapped {border: 1px dashed gray;margin: 0 0.4em 0.5em 0.4em;box-sizing: border-box;padding-bottom: 0.4em;background-color: white;}#sk-container-id-1 div.sk-label label {font-family: monospace;font-weight: bold;display: inline-block;line-height: 1.2em;}#sk-container-id-1 div.sk-label-container {text-align: center;}#sk-container-id-1 div.sk-container {/* jupyter's `normalize.less` sets `[hidden] { display: none; }` but bootstrap.min.css set `[hidden] { display: none !important; }` so we also need the `!important` here to be able to override the default hidden behavior on the sphinx rendered scikit-learn.org. See: https://github.com/scikit-learn/scikit-learn/issues/21755 */display: inline-block !important;position: relative;}#sk-container-id-1 div.sk-text-repr-fallback {display: none;}</style><div id=\"sk-container-id-1\" class=\"sk-top-container\"><div class=\"sk-text-repr-fallback\"><pre>GaussianNB()</pre><b>In a Jupyter environment, please rerun this cell to show the HTML representation or trust the notebook. <br />On GitHub, the HTML representation is unable to render, please try loading this page with nbviewer.org.</b></div><div class=\"sk-container\" hidden><div class=\"sk-item\"><div class=\"sk-estimator sk-toggleable\"><input class=\"sk-toggleable__control sk-hidden--visually\" id=\"sk-estimator-id-1\" type=\"checkbox\" checked><label for=\"sk-estimator-id-1\" class=\"sk-toggleable__label sk-toggleable__label-arrow\">GaussianNB</label><div class=\"sk-toggleable__content\"><pre>GaussianNB()</pre></div></div></div></div></div>"
            ]
          },
          "metadata": {},
          "execution_count": 19
        }
      ]
    },
    {
      "cell_type": "code",
      "source": [
        "# Train the K-Nearest Neighbors classifier for disease prediction\n",
        "knn_classifier = KNeighborsClassifier(n_neighbors=1)\n",
        "knn_classifier.fit(X_train_cv.toarray(), y_train_disease)\n"
      ],
      "metadata": {
        "colab": {
          "base_uri": "https://localhost:8080/",
          "height": 75
        },
        "id": "ibfwSt5f73JX",
        "outputId": "8bbc88ec-f756-41f3-d304-df1722f3b312"
      },
      "execution_count": 33,
      "outputs": [
        {
          "output_type": "execute_result",
          "data": {
            "text/plain": [
              "KNeighborsClassifier(n_neighbors=1)"
            ],
            "text/html": [
              "<style>#sk-container-id-3 {color: black;background-color: white;}#sk-container-id-3 pre{padding: 0;}#sk-container-id-3 div.sk-toggleable {background-color: white;}#sk-container-id-3 label.sk-toggleable__label {cursor: pointer;display: block;width: 100%;margin-bottom: 0;padding: 0.3em;box-sizing: border-box;text-align: center;}#sk-container-id-3 label.sk-toggleable__label-arrow:before {content: \"▸\";float: left;margin-right: 0.25em;color: #696969;}#sk-container-id-3 label.sk-toggleable__label-arrow:hover:before {color: black;}#sk-container-id-3 div.sk-estimator:hover label.sk-toggleable__label-arrow:before {color: black;}#sk-container-id-3 div.sk-toggleable__content {max-height: 0;max-width: 0;overflow: hidden;text-align: left;background-color: #f0f8ff;}#sk-container-id-3 div.sk-toggleable__content pre {margin: 0.2em;color: black;border-radius: 0.25em;background-color: #f0f8ff;}#sk-container-id-3 input.sk-toggleable__control:checked~div.sk-toggleable__content {max-height: 200px;max-width: 100%;overflow: auto;}#sk-container-id-3 input.sk-toggleable__control:checked~label.sk-toggleable__label-arrow:before {content: \"▾\";}#sk-container-id-3 div.sk-estimator input.sk-toggleable__control:checked~label.sk-toggleable__label {background-color: #d4ebff;}#sk-container-id-3 div.sk-label input.sk-toggleable__control:checked~label.sk-toggleable__label {background-color: #d4ebff;}#sk-container-id-3 input.sk-hidden--visually {border: 0;clip: rect(1px 1px 1px 1px);clip: rect(1px, 1px, 1px, 1px);height: 1px;margin: -1px;overflow: hidden;padding: 0;position: absolute;width: 1px;}#sk-container-id-3 div.sk-estimator {font-family: monospace;background-color: #f0f8ff;border: 1px dotted black;border-radius: 0.25em;box-sizing: border-box;margin-bottom: 0.5em;}#sk-container-id-3 div.sk-estimator:hover {background-color: #d4ebff;}#sk-container-id-3 div.sk-parallel-item::after {content: \"\";width: 100%;border-bottom: 1px solid gray;flex-grow: 1;}#sk-container-id-3 div.sk-label:hover label.sk-toggleable__label {background-color: #d4ebff;}#sk-container-id-3 div.sk-serial::before {content: \"\";position: absolute;border-left: 1px solid gray;box-sizing: border-box;top: 0;bottom: 0;left: 50%;z-index: 0;}#sk-container-id-3 div.sk-serial {display: flex;flex-direction: column;align-items: center;background-color: white;padding-right: 0.2em;padding-left: 0.2em;position: relative;}#sk-container-id-3 div.sk-item {position: relative;z-index: 1;}#sk-container-id-3 div.sk-parallel {display: flex;align-items: stretch;justify-content: center;background-color: white;position: relative;}#sk-container-id-3 div.sk-item::before, #sk-container-id-3 div.sk-parallel-item::before {content: \"\";position: absolute;border-left: 1px solid gray;box-sizing: border-box;top: 0;bottom: 0;left: 50%;z-index: -1;}#sk-container-id-3 div.sk-parallel-item {display: flex;flex-direction: column;z-index: 1;position: relative;background-color: white;}#sk-container-id-3 div.sk-parallel-item:first-child::after {align-self: flex-end;width: 50%;}#sk-container-id-3 div.sk-parallel-item:last-child::after {align-self: flex-start;width: 50%;}#sk-container-id-3 div.sk-parallel-item:only-child::after {width: 0;}#sk-container-id-3 div.sk-dashed-wrapped {border: 1px dashed gray;margin: 0 0.4em 0.5em 0.4em;box-sizing: border-box;padding-bottom: 0.4em;background-color: white;}#sk-container-id-3 div.sk-label label {font-family: monospace;font-weight: bold;display: inline-block;line-height: 1.2em;}#sk-container-id-3 div.sk-label-container {text-align: center;}#sk-container-id-3 div.sk-container {/* jupyter's `normalize.less` sets `[hidden] { display: none; }` but bootstrap.min.css set `[hidden] { display: none !important; }` so we also need the `!important` here to be able to override the default hidden behavior on the sphinx rendered scikit-learn.org. See: https://github.com/scikit-learn/scikit-learn/issues/21755 */display: inline-block !important;position: relative;}#sk-container-id-3 div.sk-text-repr-fallback {display: none;}</style><div id=\"sk-container-id-3\" class=\"sk-top-container\"><div class=\"sk-text-repr-fallback\"><pre>KNeighborsClassifier(n_neighbors=1)</pre><b>In a Jupyter environment, please rerun this cell to show the HTML representation or trust the notebook. <br />On GitHub, the HTML representation is unable to render, please try loading this page with nbviewer.org.</b></div><div class=\"sk-container\" hidden><div class=\"sk-item\"><div class=\"sk-estimator sk-toggleable\"><input class=\"sk-toggleable__control sk-hidden--visually\" id=\"sk-estimator-id-3\" type=\"checkbox\" checked><label for=\"sk-estimator-id-3\" class=\"sk-toggleable__label sk-toggleable__label-arrow\">KNeighborsClassifier</label><div class=\"sk-toggleable__content\"><pre>KNeighborsClassifier(n_neighbors=1)</pre></div></div></div></div></div>"
            ]
          },
          "metadata": {},
          "execution_count": 33
        }
      ]
    },
    {
      "cell_type": "code",
      "source": [
        "# Perform gene classification and disease prediction for each DNA sequence in the test set\n",
        "for i in range(len(X_test)):\n",
        "    print(f\"Sequence ID: {X_test.index[i]}\")\n",
        "    print(f\"Sequence: {seq_df.loc[X_test.index[i], 'DNA']}\")\n",
        "    print(f\"Sequence Length: {len(seq_df.loc[X_test.index[i], 'DNA'])}\")\n",
        "\n",
        "    # Ordinal encoding DNA sequence\n",
        "    sequence_string = seq_df.loc[X_test.index[i], 'DNA']  # Extract the DNA sequence string from the DataFrame\n",
        "    ordinal_encoded = ordinal_encoder(string_to_array(sequence_string))\n",
        "    print(f\"Ordinal Encoding: {ordinal_encoded}\")\n",
        "\n",
        "    # One-hot encoding DNA sequence\n",
        "    one_hot_encoded = one_hot_encoder(string_to_array(sequence_string))\n",
        "    print(f\"One-Hot Encoding: {one_hot_encoded}\")\n",
        "\n",
        "    # K-mer counting\n",
        "    k_mers = Kmers_funct(sequence_string, size=6)\n",
        "    joined_sentence = ' '.join(k_mers)\n",
        "    print(f\"K-mers: {k_mers}\")\n",
        "    print(f\"Joined Sentence: {joined_sentence}\")\n",
        "\n",
        "    # Gene classification using Naive Bayes Classifier\n",
        "    y_pred_gene = nb_classifier.predict(X_test_cv[i].toarray())\n",
        "    print(f\"Predicted Gene: {y_pred_gene}\")\n",
        "    print(f\"Actual Gene: {y_test_gene.iloc[i]}\")\n",
        "\n",
        "    # Disease prediction using K-Nearest Neighbors Classifier\n",
        "    y_pred_disease = knn_classifier.predict(X_test_cv[i].toarray())\n",
        "    print(f\"Predicted Disease: {y_pred_disease}\")\n",
        "    print(f\"Actual Disease: {y_test_disease.iloc[i]}\")\n",
        "\n",
        "    print(\"\\n\")\n"
      ],
      "metadata": {
        "colab": {
          "base_uri": "https://localhost:8080/"
        },
        "id": "gOBn_EA0756E",
        "outputId": "c4779ebb-ef91-4536-8d46-81c5be65b83b"
      },
      "execution_count": 42,
      "outputs": [
        {
          "output_type": "stream",
          "name": "stdout",
          "text": [
            "Sequence ID: 1\n",
            "Sequence: ATGTTTCGCATCACCAACATTGAGTTTCTTCCCGAATACCGACAAAAGGAGTCCAGGGAATTTCTTTCAGTGTCACGGACTGTGCAGCAAGTGATAAACCTGGTTTATACAACATCTGCCTTCTCCAAATTTTATGAGCAGTCTGTTGTTGCAGATGTCAGCAACAACAAAGGCGGCCTCCTTGTCCACTTTTGGATTGTTTTTGTCATGCCACGTGCCAAAGGCCACATCTTCTGTGAAGACTGTGTTGCCGCCATCTTGAAGGACTCCATCCAGACAAGCATCATAAACCGGACCTCTGTGGGGAGCTTGCAGGGACTGGCTGTGGACATGGACTCTGTGGTACTAAATGACAAAGGCTGCTCTCAGTACTTCTATGCAGAGCATCTGTCTCTCCACTACCCGCTGGAGATTTCTGCAGCCTCAGGGAGGCTGATGTGTCACTTCAAGCTGGTGGCCATAGTGGGCTACCTGATTCGTCTCTCAATCAAGTCCATCCAAATCGAAGCCGACAACTGTGTCACTGACTCCCTGACCATTTACGACTCCCTTTTGCCCATCCGGAGCAGCATCTTGTACAGAATTTGTGAACCCACAAGAACATTAATGTCATTTGTTTCTACAAATAATCTCATGTTGGTGACATTTAAGTCTCCTCATATACGGAGGCTCTCAGGAATCCGGGCATATTTTGAGGTCATTCCAGAACAAAAGTGTGAAAACACAGTGTTGGTCAAAGACATCACTGGCTTTGAAGGGAAAATTTCAAGCCCATATTACCCGAGCTACTATCCTCCAAAATGCAAGTGTACCTGGAAATTTCAGACTTCTCTATCAACTCTTGGCATAGCACTGAAATTCTATAACTATTCAATAACCAAGAAGAGTATGAAAGGCTGTGAGCATGGATGGTGGGAAATTAATGAGCACATGTACTGTGGCTCCTACATGGATCATCAGACAATTTTTCGAGTGCCCAGCCCTCTGGTTCACATTCAGCTCCAGTGCAGTTCAAGGCTTTCAGACAAGCCACTTTTGGCAGAATATGGCAGTTACAACATCAGTCAACCCTGCCCTGTTGGATCTTTTAGATGCTCCTCCGGTTTATGTGTCCCTCAGGCCCAGCGTTGTGATGGAGTAAATGACTGCTTTGATGAAAGTGATGAACTGTTTTGCGTGAGCCCTCAACCTGCCTGCAATACCAGCTCCTTCAGGCAGCATGGCCCTCTCATCTGTGATGGCTTCAGGGACTGTGAGAATGGCCGGGATGAGCAAAACTGCACTCAAAGTATTCCATGCAACAACAGAACTTTTAAGTGTGGCAATGATATTTGCTTTAGGAAACAAAATGCAAAATGTGATGGGACAGTGGATTGTCCAGATGGAAGTGATGAAGAAGGCTGCACCTGCAGCAGGAGTTCCTCCGCCCTTCACCGCATCATCGGAGGCACAGACACCCTGGAGGGGGGTTGGCCGTGGCAGGTCAGCCTCCACTTTGTTGGATCTGCCTACTGTGGTGCCTCAGTCATCTCCAGGGAGTGGCTTCTTTCTGCAGCCCACTGTTTTCATGGAAACAGGCTGTCAGATCCCACACCATGGACTGCACACCTCGGGATGTATGTTCAGGGGAATGCCAAGTTTGTCTCCCCGGTGAGAAGAATTGTGGTCCACGAGTACTATAACAGTCAGACTTTTGATTATGATATTGCTTTGCTACAGCTCAGTATTGCCTGGCCTGAGACCCTGAAACAGCTCATTCAGCCAATATGCATTCCTCCCACTGGTCAGAGAGTTCGCAGTGGGGAGAAGTGCTGGGTAACTGGCTGGGGGCGAAGACACGAAGCAGATAATAAAGGCTCCCTCGTTCTGCAGCAAGCGGAGGTAGAGCTCATTGATCAAACGCTCTGTGTTTCCACCTACGGGATCATCACTTCTCGGATGCTCTGTGCAGGCATAATGTCAGGCAAGAGAGATGCCTGCAAAGGAGATTCGGGTGGACCTTTATCTTGTCGAAGAAAAAGTGATGGAAAATGGATTTTGACTGGCATTGTTAGCTGGGGACATGGAAGTGGACGACCAAACTTTCCTGGTGTTTACACAAGGGTGTCAAACTTTGTTCCCTGGATTCATAAATATGTCCCTTCTCTTTTGTAA\n",
            "Sequence Length: 2154\n",
            "Ordinal Encoding: [0.25 0.   0.75 ... 0.   0.25 0.25]\n",
            "One-Hot Encoding: [[1 0 0]\n",
            " [0 0 0]\n",
            " [0 0 1]\n",
            " ...\n",
            " [0 0 0]\n",
            " [1 0 0]\n",
            " [1 0 0]]\n",
            "K-mers: ['atgttt', 'tgtttc', 'gtttcg', 'tttcgc', 'ttcgca', 'tcgcat', 'cgcatc', 'gcatca', 'catcac', 'atcacc', 'tcacca', 'caccaa', 'accaac', 'ccaaca', 'caacat', 'aacatt', 'acattg', 'cattga', 'attgag', 'ttgagt', 'tgagtt', 'gagttt', 'agtttc', 'gtttct', 'tttctt', 'ttcttc', 'tcttcc', 'cttccc', 'ttcccg', 'tcccga', 'cccgaa', 'ccgaat', 'cgaata', 'gaatac', 'aatacc', 'ataccg', 'taccga', 'accgac', 'ccgaca', 'cgacaa', 'gacaaa', 'acaaaa', 'caaaag', 'aaaagg', 'aaagga', 'aaggag', 'aggagt', 'ggagtc', 'gagtcc', 'agtcca', 'gtccag', 'tccagg', 'ccaggg', 'caggga', 'agggaa', 'gggaat', 'ggaatt', 'gaattt', 'aatttc', 'atttct', 'tttctt', 'ttcttt', 'tctttc', 'ctttca', 'tttcag', 'ttcagt', 'tcagtg', 'cagtgt', 'agtgtc', 'gtgtca', 'tgtcac', 'gtcacg', 'tcacgg', 'cacgga', 'acggac', 'cggact', 'ggactg', 'gactgt', 'actgtg', 'ctgtgc', 'tgtgca', 'gtgcag', 'tgcagc', 'gcagca', 'cagcaa', 'agcaag', 'gcaagt', 'caagtg', 'aagtga', 'agtgat', 'gtgata', 'tgataa', 'gataaa', 'ataaac', 'taaacc', 'aaacct', 'aacctg', 'acctgg', 'cctggt', 'ctggtt', 'tggttt', 'ggttta', 'gtttat', 'tttata', 'ttatac', 'tataca', 'atacaa', 'tacaac', 'acaaca', 'caacat', 'aacatc', 'acatct', 'catctg', 'atctgc', 'tctgcc', 'ctgcct', 'tgcctt', 'gccttc', 'ccttct', 'cttctc', 'ttctcc', 'tctcca', 'ctccaa', 'tccaaa', 'ccaaat', 'caaatt', 'aaattt', 'aatttt', 'atttta', 'ttttat', 'tttatg', 'ttatga', 'tatgag', 'atgagc', 'tgagca', 'gagcag', 'agcagt', 'gcagtc', 'cagtct', 'agtctg', 'gtctgt', 'tctgtt', 'ctgttg', 'tgttgt', 'gttgtt', 'ttgttg', 'tgttgc', 'gttgca', 'ttgcag', 'tgcaga', 'gcagat', 'cagatg', 'agatgt', 'gatgtc', 'atgtca', 'tgtcag', 'gtcagc', 'tcagca', 'cagcaa', 'agcaac', 'gcaaca', 'caacaa', 'aacaac', 'acaaca', 'caacaa', 'aacaaa', 'acaaag', 'caaagg', 'aaaggc', 'aaggcg', 'aggcgg', 'ggcggc', 'gcggcc', 'cggcct', 'ggcctc', 'gcctcc', 'cctcct', 'ctcctt', 'tccttg', 'ccttgt', 'cttgtc', 'ttgtcc', 'tgtcca', 'gtccac', 'tccact', 'ccactt', 'cacttt', 'actttt', 'cttttg', 'ttttgg', 'tttgga', 'ttggat', 'tggatt', 'ggattg', 'gattgt', 'attgtt', 'ttgttt', 'tgtttt', 'gttttt', 'tttttg', 'ttttgt', 'tttgtc', 'ttgtca', 'tgtcat', 'gtcatg', 'tcatgc', 'catgcc', 'atgcca', 'tgccac', 'gccacg', 'ccacgt', 'cacgtg', 'acgtgc', 'cgtgcc', 'gtgcca', 'tgccaa', 'gccaaa', 'ccaaag', 'caaagg', 'aaaggc', 'aaggcc', 'aggcca', 'ggccac', 'gccaca', 'ccacat', 'cacatc', 'acatct', 'catctt', 'atcttc', 'tcttct', 'cttctg', 'ttctgt', 'tctgtg', 'ctgtga', 'tgtgaa', 'gtgaag', 'tgaaga', 'gaagac', 'aagact', 'agactg', 'gactgt', 'actgtg', 'ctgtgt', 'tgtgtt', 'gtgttg', 'tgttgc', 'gttgcc', 'ttgccg', 'tgccgc', 'gccgcc', 'ccgcca', 'cgccat', 'gccatc', 'ccatct', 'catctt', 'atcttg', 'tcttga', 'cttgaa', 'ttgaag', 'tgaagg', 'gaagga', 'aaggac', 'aggact', 'ggactc', 'gactcc', 'actcca', 'ctccat', 'tccatc', 'ccatcc', 'catcca', 'atccag', 'tccaga', 'ccagac', 'cagaca', 'agacaa', 'gacaag', 'acaagc', 'caagca', 'aagcat', 'agcatc', 'gcatca', 'catcat', 'atcata', 'tcataa', 'cataaa', 'ataaac', 'taaacc', 'aaaccg', 'aaccgg', 'accgga', 'ccggac', 'cggacc', 'ggacct', 'gacctc', 'acctct', 'cctctg', 'ctctgt', 'tctgtg', 'ctgtgg', 'tgtggg', 'gtgggg', 'tgggga', 'ggggag', 'gggagc', 'ggagct', 'gagctt', 'agcttg', 'gcttgc', 'cttgca', 'ttgcag', 'tgcagg', 'gcaggg', 'caggga', 'agggac', 'gggact', 'ggactg', 'gactgg', 'actggc', 'ctggct', 'tggctg', 'ggctgt', 'gctgtg', 'ctgtgg', 'tgtgga', 'gtggac', 'tggaca', 'ggacat', 'gacatg', 'acatgg', 'catgga', 'atggac', 'tggact', 'ggactc', 'gactct', 'actctg', 'ctctgt', 'tctgtg', 'ctgtgg', 'tgtggt', 'gtggta', 'tggtac', 'ggtact', 'gtacta', 'tactaa', 'actaaa', 'ctaaat', 'taaatg', 'aaatga', 'aatgac', 'atgaca', 'tgacaa', 'gacaaa', 'acaaag', 'caaagg', 'aaaggc', 'aaggct', 'aggctg', 'ggctgc', 'gctgct', 'ctgctc', 'tgctct', 'gctctc', 'ctctca', 'tctcag', 'ctcagt', 'tcagta', 'cagtac', 'agtact', 'gtactt', 'tacttc', 'acttct', 'cttcta', 'ttctat', 'tctatg', 'ctatgc', 'tatgca', 'atgcag', 'tgcaga', 'gcagag', 'cagagc', 'agagca', 'gagcat', 'agcatc', 'gcatct', 'catctg', 'atctgt', 'tctgtc', 'ctgtct', 'tgtctc', 'gtctct', 'tctctc', 'ctctcc', 'tctcca', 'ctccac', 'tccact', 'ccacta', 'cactac', 'actacc', 'ctaccc', 'tacccg', 'acccgc', 'cccgct', 'ccgctg', 'cgctgg', 'gctgga', 'ctggag', 'tggaga', 'ggagat', 'gagatt', 'agattt', 'gatttc', 'atttct', 'tttctg', 'ttctgc', 'tctgca', 'ctgcag', 'tgcagc', 'gcagcc', 'cagcct', 'agcctc', 'gcctca', 'cctcag', 'ctcagg', 'tcaggg', 'caggga', 'agggag', 'gggagg', 'ggaggc', 'gaggct', 'aggctg', 'ggctga', 'gctgat', 'ctgatg', 'tgatgt', 'gatgtg', 'atgtgt', 'tgtgtc', 'gtgtca', 'tgtcac', 'gtcact', 'tcactt', 'cacttc', 'acttca', 'cttcaa', 'ttcaag', 'tcaagc', 'caagct', 'aagctg', 'agctgg', 'gctggt', 'ctggtg', 'tggtgg', 'ggtggc', 'gtggcc', 'tggcca', 'ggccat', 'gccata', 'ccatag', 'catagt', 'atagtg', 'tagtgg', 'agtggg', 'gtgggc', 'tgggct', 'gggcta', 'ggctac', 'gctacc', 'ctacct', 'tacctg', 'acctga', 'cctgat', 'ctgatt', 'tgattc', 'gattcg', 'attcgt', 'ttcgtc', 'tcgtct', 'cgtctc', 'gtctct', 'tctctc', 'ctctca', 'tctcaa', 'ctcaat', 'tcaatc', 'caatca', 'aatcaa', 'atcaag', 'tcaagt', 'caagtc', 'aagtcc', 'agtcca', 'gtccat', 'tccatc', 'ccatcc', 'catcca', 'atccaa', 'tccaaa', 'ccaaat', 'caaatc', 'aaatcg', 'aatcga', 'atcgaa', 'tcgaag', 'cgaagc', 'gaagcc', 'aagccg', 'agccga', 'gccgac', 'ccgaca', 'cgacaa', 'gacaac', 'acaact', 'caactg', 'aactgt', 'actgtg', 'ctgtgt', 'tgtgtc', 'gtgtca', 'tgtcac', 'gtcact', 'tcactg', 'cactga', 'actgac', 'ctgact', 'tgactc', 'gactcc', 'actccc', 'ctccct', 'tccctg', 'ccctga', 'cctgac', 'ctgacc', 'tgacca', 'gaccat', 'accatt', 'ccattt', 'cattta', 'atttac', 'tttacg', 'ttacga', 'tacgac', 'acgact', 'cgactc', 'gactcc', 'actccc', 'ctccct', 'tccctt', 'cccttt', 'cctttt', 'cttttg', 'ttttgc', 'tttgcc', 'ttgccc', 'tgccca', 'gcccat', 'cccatc', 'ccatcc', 'catccg', 'atccgg', 'tccgga', 'ccggag', 'cggagc', 'ggagca', 'gagcag', 'agcagc', 'gcagca', 'cagcat', 'agcatc', 'gcatct', 'catctt', 'atcttg', 'tcttgt', 'cttgta', 'ttgtac', 'tgtaca', 'gtacag', 'tacaga', 'acagaa', 'cagaat', 'agaatt', 'gaattt', 'aatttg', 'atttgt', 'tttgtg', 'ttgtga', 'tgtgaa', 'gtgaac', 'tgaacc', 'gaaccc', 'aaccca', 'acccac', 'cccaca', 'ccacaa', 'cacaag', 'acaaga', 'caagaa', 'aagaac', 'agaaca', 'gaacat', 'aacatt', 'acatta', 'cattaa', 'attaat', 'ttaatg', 'taatgt', 'aatgtc', 'atgtca', 'tgtcat', 'gtcatt', 'tcattt', 'catttg', 'atttgt', 'tttgtt', 'ttgttt', 'tgtttc', 'gtttct', 'tttcta', 'ttctac', 'tctaca', 'ctacaa', 'tacaaa', 'acaaat', 'caaata', 'aaataa', 'aataat', 'ataatc', 'taatct', 'aatctc', 'atctca', 'tctcat', 'ctcatg', 'tcatgt', 'catgtt', 'atgttg', 'tgttgg', 'gttggt', 'ttggtg', 'tggtga', 'ggtgac', 'gtgaca', 'tgacat', 'gacatt', 'acattt', 'cattta', 'atttaa', 'tttaag', 'ttaagt', 'taagtc', 'aagtct', 'agtctc', 'gtctcc', 'tctcct', 'ctcctc', 'tcctca', 'cctcat', 'ctcata', 'tcatat', 'catata', 'atatac', 'tatacg', 'atacgg', 'tacgga', 'acggag', 'cggagg', 'ggaggc', 'gaggct', 'aggctc', 'ggctct', 'gctctc', 'ctctca', 'tctcag', 'ctcagg', 'tcagga', 'caggaa', 'aggaat', 'ggaatc', 'gaatcc', 'aatccg', 'atccgg', 'tccggg', 'ccgggc', 'cgggca', 'gggcat', 'ggcata', 'gcatat', 'catatt', 'atattt', 'tatttt', 'attttg', 'ttttga', 'tttgag', 'ttgagg', 'tgaggt', 'gaggtc', 'aggtca', 'ggtcat', 'gtcatt', 'tcattc', 'cattcc', 'attcca', 'ttccag', 'tccaga', 'ccagaa', 'cagaac', 'agaaca', 'gaacaa', 'aacaaa', 'acaaaa', 'caaaag', 'aaaagt', 'aaagtg', 'aagtgt', 'agtgtg', 'gtgtga', 'tgtgaa', 'gtgaaa', 'tgaaaa', 'gaaaac', 'aaaaca', 'aaacac', 'aacaca', 'acacag', 'cacagt', 'acagtg', 'cagtgt', 'agtgtt', 'gtgttg', 'tgttgg', 'gttggt', 'ttggtc', 'tggtca', 'ggtcaa', 'gtcaaa', 'tcaaag', 'caaaga', 'aaagac', 'aagaca', 'agacat', 'gacatc', 'acatca', 'catcac', 'atcact', 'tcactg', 'cactgg', 'actggc', 'ctggct', 'tggctt', 'ggcttt', 'gctttg', 'ctttga', 'tttgaa', 'ttgaag', 'tgaagg', 'gaaggg', 'aaggga', 'agggaa', 'gggaaa', 'ggaaaa', 'gaaaat', 'aaaatt', 'aaattt', 'aatttc', 'atttca', 'tttcaa', 'ttcaag', 'tcaagc', 'caagcc', 'aagccc', 'agccca', 'gcccat', 'cccata', 'ccatat', 'catatt', 'atatta', 'tattac', 'attacc', 'ttaccc', 'tacccg', 'acccga', 'cccgag', 'ccgagc', 'cgagct', 'gagcta', 'agctac', 'gctact', 'ctacta', 'tactat', 'actatc', 'ctatcc', 'tatcct', 'atcctc', 'tcctcc', 'cctcca', 'ctccaa', 'tccaaa', 'ccaaaa', 'caaaat', 'aaaatg', 'aaatgc', 'aatgca', 'atgcaa', 'tgcaag', 'gcaagt', 'caagtg', 'aagtgt', 'agtgta', 'gtgtac', 'tgtacc', 'gtacct', 'tacctg', 'acctgg', 'cctgga', 'ctggaa', 'tggaaa', 'ggaaat', 'gaaatt', 'aaattt', 'aatttc', 'atttca', 'tttcag', 'ttcaga', 'tcagac', 'cagact', 'agactt', 'gacttc', 'acttct', 'cttctc', 'ttctct', 'tctcta', 'ctctat', 'tctatc', 'ctatca', 'tatcaa', 'atcaac', 'tcaact', 'caactc', 'aactct', 'actctt', 'ctcttg', 'tcttgg', 'cttggc', 'ttggca', 'tggcat', 'ggcata', 'gcatag', 'catagc', 'atagca', 'tagcac', 'agcact', 'gcactg', 'cactga', 'actgaa', 'ctgaaa', 'tgaaat', 'gaaatt', 'aaattc', 'aattct', 'attcta', 'ttctat', 'tctata', 'ctataa', 'tataac', 'ataact', 'taacta', 'aactat', 'actatt', 'ctattc', 'tattca', 'attcaa', 'ttcaat', 'tcaata', 'caataa', 'aataac', 'ataacc', 'taacca', 'aaccaa', 'accaag', 'ccaaga', 'caagaa', 'aagaag', 'agaaga', 'gaagag', 'aagagt', 'agagta', 'gagtat', 'agtatg', 'gtatga', 'tatgaa', 'atgaaa', 'tgaaag', 'gaaagg', 'aaaggc', 'aaggct', 'aggctg', 'ggctgt', 'gctgtg', 'ctgtga', 'tgtgag', 'gtgagc', 'tgagca', 'gagcat', 'agcatg', 'gcatgg', 'catgga', 'atggat', 'tggatg', 'ggatgg', 'gatggt', 'atggtg', 'tggtgg', 'ggtggg', 'gtggga', 'tgggaa', 'gggaaa', 'ggaaat', 'gaaatt', 'aaatta', 'aattaa', 'attaat', 'ttaatg', 'taatga', 'aatgag', 'atgagc', 'tgagca', 'gagcac', 'agcaca', 'gcacat', 'cacatg', 'acatgt', 'catgta', 'atgtac', 'tgtact', 'gtactg', 'tactgt', 'actgtg', 'ctgtgg', 'tgtggc', 'gtggct', 'tggctc', 'ggctcc', 'gctcct', 'ctccta', 'tcctac', 'cctaca', 'ctacat', 'tacatg', 'acatgg', 'catgga', 'atggat', 'tggatc', 'ggatca', 'gatcat', 'atcatc', 'tcatca', 'catcag', 'atcaga', 'tcagac', 'cagaca', 'agacaa', 'gacaat', 'acaatt', 'caattt', 'aatttt', 'attttt', 'tttttc', 'ttttcg', 'tttcga', 'ttcgag', 'tcgagt', 'cgagtg', 'gagtgc', 'agtgcc', 'gtgccc', 'tgccca', 'gcccag', 'cccagc', 'ccagcc', 'cagccc', 'agccct', 'gccctc', 'ccctct', 'cctctg', 'ctctgg', 'tctggt', 'ctggtt', 'tggttc', 'ggttca', 'gttcac', 'ttcaca', 'tcacat', 'cacatt', 'acattc', 'cattca', 'attcag', 'ttcagc', 'tcagct', 'cagctc', 'agctcc', 'gctcca', 'ctccag', 'tccagt', 'ccagtg', 'cagtgc', 'agtgca', 'gtgcag', 'tgcagt', 'gcagtt', 'cagttc', 'agttca', 'gttcaa', 'ttcaag', 'tcaagg', 'caaggc', 'aaggct', 'aggctt', 'ggcttt', 'gctttc', 'ctttca', 'tttcag', 'ttcaga', 'tcagac', 'cagaca', 'agacaa', 'gacaag', 'acaagc', 'caagcc', 'aagcca', 'agccac', 'gccact', 'ccactt', 'cacttt', 'actttt', 'cttttg', 'ttttgg', 'tttggc', 'ttggca', 'tggcag', 'ggcaga', 'gcagaa', 'cagaat', 'agaata', 'gaatat', 'aatatg', 'atatgg', 'tatggc', 'atggca', 'tggcag', 'ggcagt', 'gcagtt', 'cagtta', 'agttac', 'gttaca', 'ttacaa', 'tacaac', 'acaaca', 'caacat', 'aacatc', 'acatca', 'catcag', 'atcagt', 'tcagtc', 'cagtca', 'agtcaa', 'gtcaac', 'tcaacc', 'caaccc', 'aaccct', 'accctg', 'ccctgc', 'cctgcc', 'ctgccc', 'tgccct', 'gccctg', 'ccctgt', 'cctgtt', 'ctgttg', 'tgttgg', 'gttgga', 'ttggat', 'tggatc', 'ggatct', 'gatctt', 'atcttt', 'tctttt', 'ctttta', 'ttttag', 'tttaga', 'ttagat', 'tagatg', 'agatgc', 'gatgct', 'atgctc', 'tgctcc', 'gctcct', 'ctcctc', 'tcctcc', 'cctccg', 'ctccgg', 'tccggt', 'ccggtt', 'cggttt', 'ggttta', 'gtttat', 'tttatg', 'ttatgt', 'tatgtg', 'atgtgt', 'tgtgtc', 'gtgtcc', 'tgtccc', 'gtccct', 'tccctc', 'ccctca', 'cctcag', 'ctcagg', 'tcaggc', 'caggcc', 'aggccc', 'ggccca', 'gcccag', 'cccagc', 'ccagcg', 'cagcgt', 'agcgtt', 'gcgttg', 'cgttgt', 'gttgtg', 'ttgtga', 'tgtgat', 'gtgatg', 'tgatgg', 'gatgga', 'atggag', 'tggagt', 'ggagta', 'gagtaa', 'agtaaa', 'gtaaat', 'taaatg', 'aaatga', 'aatgac', 'atgact', 'tgactg', 'gactgc', 'actgct', 'ctgctt', 'tgcttt', 'gctttg', 'ctttga', 'tttgat', 'ttgatg', 'tgatga', 'gatgaa', 'atgaaa', 'tgaaag', 'gaaagt', 'aaagtg', 'aagtga', 'agtgat', 'gtgatg', 'tgatga', 'gatgaa', 'atgaac', 'tgaact', 'gaactg', 'aactgt', 'actgtt', 'ctgttt', 'tgtttt', 'gttttg', 'ttttgc', 'tttgcg', 'ttgcgt', 'tgcgtg', 'gcgtga', 'cgtgag', 'gtgagc', 'tgagcc', 'gagccc', 'agccct', 'gccctc', 'ccctca', 'cctcaa', 'ctcaac', 'tcaacc', 'caacct', 'aacctg', 'acctgc', 'cctgcc', 'ctgcct', 'tgcctg', 'gcctgc', 'cctgca', 'ctgcaa', 'tgcaat', 'gcaata', 'caatac', 'aatacc', 'atacca', 'taccag', 'accagc', 'ccagct', 'cagctc', 'agctcc', 'gctcct', 'ctcctt', 'tccttc', 'ccttca', 'cttcag', 'ttcagg', 'tcaggc', 'caggca', 'aggcag', 'ggcagc', 'gcagca', 'cagcat', 'agcatg', 'gcatgg', 'catggc', 'atggcc', 'tggccc', 'ggccct', 'gccctc', 'ccctct', 'cctctc', 'ctctca', 'tctcat', 'ctcatc', 'tcatct', 'catctg', 'atctgt', 'tctgtg', 'ctgtga', 'tgtgat', 'gtgatg', 'tgatgg', 'gatggc', 'atggct', 'tggctt', 'ggcttc', 'gcttca', 'cttcag', 'ttcagg', 'tcaggg', 'caggga', 'agggac', 'gggact', 'ggactg', 'gactgt', 'actgtg', 'ctgtga', 'tgtgag', 'gtgaga', 'tgagaa', 'gagaat', 'agaatg', 'gaatgg', 'aatggc', 'atggcc', 'tggccg', 'ggccgg', 'gccggg', 'ccggga', 'cgggat', 'gggatg', 'ggatga', 'gatgag', 'atgagc', 'tgagca', 'gagcaa', 'agcaaa', 'gcaaaa', 'caaaac', 'aaaact', 'aaactg', 'aactgc', 'actgca', 'ctgcac', 'tgcact', 'gcactc', 'cactca', 'actcaa', 'ctcaaa', 'tcaaag', 'caaagt', 'aaagta', 'aagtat', 'agtatt', 'gtattc', 'tattcc', 'attcca', 'ttccat', 'tccatg', 'ccatgc', 'catgca', 'atgcaa', 'tgcaac', 'gcaaca', 'caacaa', 'aacaac', 'acaaca', 'caacag', 'aacaga', 'acagaa', 'cagaac', 'agaact', 'gaactt', 'aacttt', 'actttt', 'ctttta', 'ttttaa', 'tttaag', 'ttaagt', 'taagtg', 'aagtgt', 'agtgtg', 'gtgtgg', 'tgtggc', 'gtggca', 'tggcaa', 'ggcaat', 'gcaatg', 'caatga', 'aatgat', 'atgata', 'tgatat', 'gatatt', 'atattt', 'tatttg', 'atttgc', 'tttgct', 'ttgctt', 'tgcttt', 'gcttta', 'ctttag', 'tttagg', 'ttagga', 'taggaa', 'aggaaa', 'ggaaac', 'gaaaca', 'aaacaa', 'aacaaa', 'acaaaa', 'caaaat', 'aaaatg', 'aaatgc', 'aatgca', 'atgcaa', 'tgcaaa', 'gcaaaa', 'caaaat', 'aaaatg', 'aaatgt', 'aatgtg', 'atgtga', 'tgtgat', 'gtgatg', 'tgatgg', 'gatggg', 'atggga', 'tgggac', 'gggaca', 'ggacag', 'gacagt', 'acagtg', 'cagtgg', 'agtgga', 'gtggat', 'tggatt', 'ggattg', 'gattgt', 'attgtc', 'ttgtcc', 'tgtcca', 'gtccag', 'tccaga', 'ccagat', 'cagatg', 'agatgg', 'gatgga', 'atggaa', 'tggaag', 'ggaagt', 'gaagtg', 'aagtga', 'agtgat', 'gtgatg', 'tgatga', 'gatgaa', 'atgaag', 'tgaaga', 'gaagaa', 'aagaag', 'agaagg', 'gaaggc', 'aaggct', 'aggctg', 'ggctgc', 'gctgca', 'ctgcac', 'tgcacc', 'gcacct', 'cacctg', 'acctgc', 'cctgca', 'ctgcag', 'tgcagc', 'gcagca', 'cagcag', 'agcagg', 'gcagga', 'caggag', 'aggagt', 'ggagtt', 'gagttc', 'agttcc', 'gttcct', 'ttcctc', 'tcctcc', 'cctccg', 'ctccgc', 'tccgcc', 'ccgccc', 'cgccct', 'gccctt', 'cccttc', 'ccttca', 'cttcac', 'ttcacc', 'tcaccg', 'caccgc', 'accgca', 'ccgcat', 'cgcatc', 'gcatca', 'catcat', 'atcatc', 'tcatcg', 'catcgg', 'atcgga', 'tcggag', 'cggagg', 'ggaggc', 'gaggca', 'aggcac', 'ggcaca', 'gcacag', 'cacaga', 'acagac', 'cagaca', 'agacac', 'gacacc', 'acaccc', 'caccct', 'accctg', 'ccctgg', 'cctgga', 'ctggag', 'tggagg', 'ggaggg', 'gagggg', 'aggggg', 'gggggg', 'gggggt', 'ggggtt', 'gggttg', 'ggttgg', 'gttggc', 'ttggcc', 'tggccg', 'ggccgt', 'gccgtg', 'ccgtgg', 'cgtggc', 'gtggca', 'tggcag', 'ggcagg', 'gcaggt', 'caggtc', 'aggtca', 'ggtcag', 'gtcagc', 'tcagcc', 'cagcct', 'agcctc', 'gcctcc', 'cctcca', 'ctccac', 'tccact', 'ccactt', 'cacttt', 'actttg', 'ctttgt', 'tttgtt', 'ttgttg', 'tgttgg', 'gttgga', 'ttggat', 'tggatc', 'ggatct', 'gatctg', 'atctgc', 'tctgcc', 'ctgcct', 'tgccta', 'gcctac', 'cctact', 'ctactg', 'tactgt', 'actgtg', 'ctgtgg', 'tgtggt', 'gtggtg', 'tggtgc', 'ggtgcc', 'gtgcct', 'tgcctc', 'gcctca', 'cctcag', 'ctcagt', 'tcagtc', 'cagtca', 'agtcat', 'gtcatc', 'tcatct', 'catctc', 'atctcc', 'tctcca', 'ctccag', 'tccagg', 'ccaggg', 'caggga', 'agggag', 'gggagt', 'ggagtg', 'gagtgg', 'agtggc', 'gtggct', 'tggctt', 'ggcttc', 'gcttct', 'cttctt', 'ttcttt', 'tctttc', 'ctttct', 'tttctg', 'ttctgc', 'tctgca', 'ctgcag', 'tgcagc', 'gcagcc', 'cagccc', 'agccca', 'gcccac', 'cccact', 'ccactg', 'cactgt', 'actgtt', 'ctgttt', 'tgtttt', 'gttttc', 'ttttca', 'tttcat', 'ttcatg', 'tcatgg', 'catgga', 'atggaa', 'tggaaa', 'ggaaac', 'gaaaca', 'aaacag', 'aacagg', 'acaggc', 'caggct', 'aggctg', 'ggctgt', 'gctgtc', 'ctgtca', 'tgtcag', 'gtcaga', 'tcagat', 'cagatc', 'agatcc', 'gatccc', 'atccca', 'tcccac', 'cccaca', 'ccacac', 'cacacc', 'acacca', 'caccat', 'accatg', 'ccatgg', 'catgga', 'atggac', 'tggact', 'ggactg', 'gactgc', 'actgca', 'ctgcac', 'tgcaca', 'gcacac', 'cacacc', 'acacct', 'cacctc', 'acctcg', 'cctcgg', 'ctcggg', 'tcggga', 'cgggat', 'gggatg', 'ggatgt', 'gatgta', 'atgtat', 'tgtatg', 'gtatgt', 'tatgtt', 'atgttc', 'tgttca', 'gttcag', 'ttcagg', 'tcaggg', 'cagggg', 'agggga', 'ggggaa', 'gggaat', 'ggaatg', 'gaatgc', 'aatgcc', 'atgcca', 'tgccaa', 'gccaag', 'ccaagt', 'caagtt', 'aagttt', 'agtttg', 'gtttgt', 'tttgtc', 'ttgtct', 'tgtctc', 'gtctcc', 'tctccc', 'ctcccc', 'tccccg', 'ccccgg', 'cccggt', 'ccggtg', 'cggtga', 'ggtgag', 'gtgaga', 'tgagaa', 'gagaag', 'agaaga', 'gaagaa', 'aagaat', 'agaatt', 'gaattg', 'aattgt', 'attgtg', 'ttgtgg', 'tgtggt', 'gtggtc', 'tggtcc', 'ggtcca', 'gtccac', 'tccacg', 'ccacga', 'cacgag', 'acgagt', 'cgagta', 'gagtac', 'agtact', 'gtacta', 'tactat', 'actata', 'ctataa', 'tataac', 'ataaca', 'taacag', 'aacagt', 'acagtc', 'cagtca', 'agtcag', 'gtcaga', 'tcagac', 'cagact', 'agactt', 'gacttt', 'actttt', 'cttttg', 'ttttga', 'tttgat', 'ttgatt', 'tgatta', 'gattat', 'attatg', 'ttatga', 'tatgat', 'atgata', 'tgatat', 'gatatt', 'atattg', 'tattgc', 'attgct', 'ttgctt', 'tgcttt', 'gctttg', 'ctttgc', 'tttgct', 'ttgcta', 'tgctac', 'gctaca', 'ctacag', 'tacagc', 'acagct', 'cagctc', 'agctca', 'gctcag', 'ctcagt', 'tcagta', 'cagtat', 'agtatt', 'gtattg', 'tattgc', 'attgcc', 'ttgcct', 'tgcctg', 'gcctgg', 'cctggc', 'ctggcc', 'tggcct', 'ggcctg', 'gcctga', 'cctgag', 'ctgaga', 'tgagac', 'gagacc', 'agaccc', 'gaccct', 'accctg', 'ccctga', 'cctgaa', 'ctgaaa', 'tgaaac', 'gaaaca', 'aaacag', 'aacagc', 'acagct', 'cagctc', 'agctca', 'gctcat', 'ctcatt', 'tcattc', 'cattca', 'attcag', 'ttcagc', 'tcagcc', 'cagcca', 'agccaa', 'gccaat', 'ccaata', 'caatat', 'aatatg', 'atatgc', 'tatgca', 'atgcat', 'tgcatt', 'gcattc', 'cattcc', 'attcct', 'ttcctc', 'tcctcc', 'cctccc', 'ctccca', 'tcccac', 'cccact', 'ccactg', 'cactgg', 'actggt', 'ctggtc', 'tggtca', 'ggtcag', 'gtcaga', 'tcagag', 'cagaga', 'agagag', 'gagagt', 'agagtt', 'gagttc', 'agttcg', 'gttcgc', 'ttcgca', 'tcgcag', 'cgcagt', 'gcagtg', 'cagtgg', 'agtggg', 'gtgggg', 'tgggga', 'ggggag', 'gggaga', 'ggagaa', 'gagaag', 'agaagt', 'gaagtg', 'aagtgc', 'agtgct', 'gtgctg', 'tgctgg', 'gctggg', 'ctgggt', 'tgggta', 'gggtaa', 'ggtaac', 'gtaact', 'taactg', 'aactgg', 'actggc', 'ctggct', 'tggctg', 'ggctgg', 'gctggg', 'ctgggg', 'tggggg', 'gggggc', 'ggggcg', 'gggcga', 'ggcgaa', 'gcgaag', 'cgaaga', 'gaagac', 'aagaca', 'agacac', 'gacacg', 'acacga', 'cacgaa', 'acgaag', 'cgaagc', 'gaagca', 'aagcag', 'agcaga', 'gcagat', 'cagata', 'agataa', 'gataat', 'ataata', 'taataa', 'aataaa', 'ataaag', 'taaagg', 'aaaggc', 'aaggct', 'aggctc', 'ggctcc', 'gctccc', 'ctccct', 'tccctc', 'ccctcg', 'cctcgt', 'ctcgtt', 'tcgttc', 'cgttct', 'gttctg', 'ttctgc', 'tctgca', 'ctgcag', 'tgcagc', 'gcagca', 'cagcaa', 'agcaag', 'gcaagc', 'caagcg', 'aagcgg', 'agcgga', 'gcggag', 'cggagg', 'ggaggt', 'gaggta', 'aggtag', 'ggtaga', 'gtagag', 'tagagc', 'agagct', 'gagctc', 'agctca', 'gctcat', 'ctcatt', 'tcattg', 'cattga', 'attgat', 'ttgatc', 'tgatca', 'gatcaa', 'atcaaa', 'tcaaac', 'caaacg', 'aaacgc', 'aacgct', 'acgctc', 'cgctct', 'gctctg', 'ctctgt', 'tctgtg', 'ctgtgt', 'tgtgtt', 'gtgttt', 'tgtttc', 'gtttcc', 'tttcca', 'ttccac', 'tccacc', 'ccacct', 'caccta', 'acctac', 'cctacg', 'ctacgg', 'tacggg', 'acggga', 'cgggat', 'gggatc', 'ggatca', 'gatcat', 'atcatc', 'tcatca', 'catcac', 'atcact', 'tcactt', 'cacttc', 'acttct', 'cttctc', 'ttctcg', 'tctcgg', 'ctcgga', 'tcggat', 'cggatg', 'ggatgc', 'gatgct', 'atgctc', 'tgctct', 'gctctg', 'ctctgt', 'tctgtg', 'ctgtgc', 'tgtgca', 'gtgcag', 'tgcagg', 'gcaggc', 'caggca', 'aggcat', 'ggcata', 'gcataa', 'cataat', 'ataatg', 'taatgt', 'aatgtc', 'atgtca', 'tgtcag', 'gtcagg', 'tcaggc', 'caggca', 'aggcaa', 'ggcaag', 'gcaaga', 'caagag', 'aagaga', 'agagag', 'gagaga', 'agagat', 'gagatg', 'agatgc', 'gatgcc', 'atgcct', 'tgcctg', 'gcctgc', 'cctgca', 'ctgcaa', 'tgcaaa', 'gcaaag', 'caaagg', 'aaagga', 'aaggag', 'aggaga', 'ggagat', 'gagatt', 'agattc', 'gattcg', 'attcgg', 'ttcggg', 'tcgggt', 'cgggtg', 'gggtgg', 'ggtgga', 'gtggac', 'tggacc', 'ggacct', 'gacctt', 'accttt', 'ccttta', 'ctttat', 'tttatc', 'ttatct', 'tatctt', 'atcttg', 'tcttgt', 'cttgtc', 'ttgtcg', 'tgtcga', 'gtcgaa', 'tcgaag', 'cgaaga', 'gaagaa', 'aagaaa', 'agaaaa', 'gaaaaa', 'aaaaag', 'aaaagt', 'aaagtg', 'aagtga', 'agtgat', 'gtgatg', 'tgatgg', 'gatgga', 'atggaa', 'tggaaa', 'ggaaaa', 'gaaaat', 'aaaatg', 'aaatgg', 'aatgga', 'atggat', 'tggatt', 'ggattt', 'gatttt', 'attttg', 'ttttga', 'tttgac', 'ttgact', 'tgactg', 'gactgg', 'actggc', 'ctggca', 'tggcat', 'ggcatt', 'gcattg', 'cattgt', 'attgtt', 'ttgtta', 'tgttag', 'gttagc', 'ttagct', 'tagctg', 'agctgg', 'gctggg', 'ctgggg', 'tgggga', 'ggggac', 'gggaca', 'ggacat', 'gacatg', 'acatgg', 'catgga', 'atggaa', 'tggaag', 'ggaagt', 'gaagtg', 'aagtgg', 'agtgga', 'gtggac', 'tggacg', 'ggacga', 'gacgac', 'acgacc', 'cgacca', 'gaccaa', 'accaaa', 'ccaaac', 'caaact', 'aaactt', 'aacttt', 'actttc', 'ctttcc', 'tttcct', 'ttcctg', 'tcctgg', 'cctggt', 'ctggtg', 'tggtgt', 'ggtgtt', 'gtgttt', 'tgttta', 'gtttac', 'tttaca', 'ttacac', 'tacaca', 'acacaa', 'cacaag', 'acaagg', 'caaggg', 'aagggt', 'agggtg', 'gggtgt', 'ggtgtc', 'gtgtca', 'tgtcaa', 'gtcaaa', 'tcaaac', 'caaact', 'aaactt', 'aacttt', 'actttg', 'ctttgt', 'tttgtt', 'ttgttc', 'tgttcc', 'gttccc', 'ttccct', 'tccctg', 'ccctgg', 'cctgga', 'ctggat', 'tggatt', 'ggattc', 'gattca', 'attcat', 'ttcata', 'tcataa', 'cataaa', 'ataaat', 'taaata', 'aaatat', 'aatatg', 'atatgt', 'tatgtc', 'atgtcc', 'tgtccc', 'gtccct', 'tccctt', 'cccttc', 'ccttct', 'cttctc', 'ttctct', 'tctctt', 'ctcttt', 'tctttt', 'cttttg', 'ttttgt', 'tttgta', 'ttgtaa']\n",
            "Joined Sentence: atgttt tgtttc gtttcg tttcgc ttcgca tcgcat cgcatc gcatca catcac atcacc tcacca caccaa accaac ccaaca caacat aacatt acattg cattga attgag ttgagt tgagtt gagttt agtttc gtttct tttctt ttcttc tcttcc cttccc ttcccg tcccga cccgaa ccgaat cgaata gaatac aatacc ataccg taccga accgac ccgaca cgacaa gacaaa acaaaa caaaag aaaagg aaagga aaggag aggagt ggagtc gagtcc agtcca gtccag tccagg ccaggg caggga agggaa gggaat ggaatt gaattt aatttc atttct tttctt ttcttt tctttc ctttca tttcag ttcagt tcagtg cagtgt agtgtc gtgtca tgtcac gtcacg tcacgg cacgga acggac cggact ggactg gactgt actgtg ctgtgc tgtgca gtgcag tgcagc gcagca cagcaa agcaag gcaagt caagtg aagtga agtgat gtgata tgataa gataaa ataaac taaacc aaacct aacctg acctgg cctggt ctggtt tggttt ggttta gtttat tttata ttatac tataca atacaa tacaac acaaca caacat aacatc acatct catctg atctgc tctgcc ctgcct tgcctt gccttc ccttct cttctc ttctcc tctcca ctccaa tccaaa ccaaat caaatt aaattt aatttt atttta ttttat tttatg ttatga tatgag atgagc tgagca gagcag agcagt gcagtc cagtct agtctg gtctgt tctgtt ctgttg tgttgt gttgtt ttgttg tgttgc gttgca ttgcag tgcaga gcagat cagatg agatgt gatgtc atgtca tgtcag gtcagc tcagca cagcaa agcaac gcaaca caacaa aacaac acaaca caacaa aacaaa acaaag caaagg aaaggc aaggcg aggcgg ggcggc gcggcc cggcct ggcctc gcctcc cctcct ctcctt tccttg ccttgt cttgtc ttgtcc tgtcca gtccac tccact ccactt cacttt actttt cttttg ttttgg tttgga ttggat tggatt ggattg gattgt attgtt ttgttt tgtttt gttttt tttttg ttttgt tttgtc ttgtca tgtcat gtcatg tcatgc catgcc atgcca tgccac gccacg ccacgt cacgtg acgtgc cgtgcc gtgcca tgccaa gccaaa ccaaag caaagg aaaggc aaggcc aggcca ggccac gccaca ccacat cacatc acatct catctt atcttc tcttct cttctg ttctgt tctgtg ctgtga tgtgaa gtgaag tgaaga gaagac aagact agactg gactgt actgtg ctgtgt tgtgtt gtgttg tgttgc gttgcc ttgccg tgccgc gccgcc ccgcca cgccat gccatc ccatct catctt atcttg tcttga cttgaa ttgaag tgaagg gaagga aaggac aggact ggactc gactcc actcca ctccat tccatc ccatcc catcca atccag tccaga ccagac cagaca agacaa gacaag acaagc caagca aagcat agcatc gcatca catcat atcata tcataa cataaa ataaac taaacc aaaccg aaccgg accgga ccggac cggacc ggacct gacctc acctct cctctg ctctgt tctgtg ctgtgg tgtggg gtgggg tgggga ggggag gggagc ggagct gagctt agcttg gcttgc cttgca ttgcag tgcagg gcaggg caggga agggac gggact ggactg gactgg actggc ctggct tggctg ggctgt gctgtg ctgtgg tgtgga gtggac tggaca ggacat gacatg acatgg catgga atggac tggact ggactc gactct actctg ctctgt tctgtg ctgtgg tgtggt gtggta tggtac ggtact gtacta tactaa actaaa ctaaat taaatg aaatga aatgac atgaca tgacaa gacaaa acaaag caaagg aaaggc aaggct aggctg ggctgc gctgct ctgctc tgctct gctctc ctctca tctcag ctcagt tcagta cagtac agtact gtactt tacttc acttct cttcta ttctat tctatg ctatgc tatgca atgcag tgcaga gcagag cagagc agagca gagcat agcatc gcatct catctg atctgt tctgtc ctgtct tgtctc gtctct tctctc ctctcc tctcca ctccac tccact ccacta cactac actacc ctaccc tacccg acccgc cccgct ccgctg cgctgg gctgga ctggag tggaga ggagat gagatt agattt gatttc atttct tttctg ttctgc tctgca ctgcag tgcagc gcagcc cagcct agcctc gcctca cctcag ctcagg tcaggg caggga agggag gggagg ggaggc gaggct aggctg ggctga gctgat ctgatg tgatgt gatgtg atgtgt tgtgtc gtgtca tgtcac gtcact tcactt cacttc acttca cttcaa ttcaag tcaagc caagct aagctg agctgg gctggt ctggtg tggtgg ggtggc gtggcc tggcca ggccat gccata ccatag catagt atagtg tagtgg agtggg gtgggc tgggct gggcta ggctac gctacc ctacct tacctg acctga cctgat ctgatt tgattc gattcg attcgt ttcgtc tcgtct cgtctc gtctct tctctc ctctca tctcaa ctcaat tcaatc caatca aatcaa atcaag tcaagt caagtc aagtcc agtcca gtccat tccatc ccatcc catcca atccaa tccaaa ccaaat caaatc aaatcg aatcga atcgaa tcgaag cgaagc gaagcc aagccg agccga gccgac ccgaca cgacaa gacaac acaact caactg aactgt actgtg ctgtgt tgtgtc gtgtca tgtcac gtcact tcactg cactga actgac ctgact tgactc gactcc actccc ctccct tccctg ccctga cctgac ctgacc tgacca gaccat accatt ccattt cattta atttac tttacg ttacga tacgac acgact cgactc gactcc actccc ctccct tccctt cccttt cctttt cttttg ttttgc tttgcc ttgccc tgccca gcccat cccatc ccatcc catccg atccgg tccgga ccggag cggagc ggagca gagcag agcagc gcagca cagcat agcatc gcatct catctt atcttg tcttgt cttgta ttgtac tgtaca gtacag tacaga acagaa cagaat agaatt gaattt aatttg atttgt tttgtg ttgtga tgtgaa gtgaac tgaacc gaaccc aaccca acccac cccaca ccacaa cacaag acaaga caagaa aagaac agaaca gaacat aacatt acatta cattaa attaat ttaatg taatgt aatgtc atgtca tgtcat gtcatt tcattt catttg atttgt tttgtt ttgttt tgtttc gtttct tttcta ttctac tctaca ctacaa tacaaa acaaat caaata aaataa aataat ataatc taatct aatctc atctca tctcat ctcatg tcatgt catgtt atgttg tgttgg gttggt ttggtg tggtga ggtgac gtgaca tgacat gacatt acattt cattta atttaa tttaag ttaagt taagtc aagtct agtctc gtctcc tctcct ctcctc tcctca cctcat ctcata tcatat catata atatac tatacg atacgg tacgga acggag cggagg ggaggc gaggct aggctc ggctct gctctc ctctca tctcag ctcagg tcagga caggaa aggaat ggaatc gaatcc aatccg atccgg tccggg ccgggc cgggca gggcat ggcata gcatat catatt atattt tatttt attttg ttttga tttgag ttgagg tgaggt gaggtc aggtca ggtcat gtcatt tcattc cattcc attcca ttccag tccaga ccagaa cagaac agaaca gaacaa aacaaa acaaaa caaaag aaaagt aaagtg aagtgt agtgtg gtgtga tgtgaa gtgaaa tgaaaa gaaaac aaaaca aaacac aacaca acacag cacagt acagtg cagtgt agtgtt gtgttg tgttgg gttggt ttggtc tggtca ggtcaa gtcaaa tcaaag caaaga aaagac aagaca agacat gacatc acatca catcac atcact tcactg cactgg actggc ctggct tggctt ggcttt gctttg ctttga tttgaa ttgaag tgaagg gaaggg aaggga agggaa gggaaa ggaaaa gaaaat aaaatt aaattt aatttc atttca tttcaa ttcaag tcaagc caagcc aagccc agccca gcccat cccata ccatat catatt atatta tattac attacc ttaccc tacccg acccga cccgag ccgagc cgagct gagcta agctac gctact ctacta tactat actatc ctatcc tatcct atcctc tcctcc cctcca ctccaa tccaaa ccaaaa caaaat aaaatg aaatgc aatgca atgcaa tgcaag gcaagt caagtg aagtgt agtgta gtgtac tgtacc gtacct tacctg acctgg cctgga ctggaa tggaaa ggaaat gaaatt aaattt aatttc atttca tttcag ttcaga tcagac cagact agactt gacttc acttct cttctc ttctct tctcta ctctat tctatc ctatca tatcaa atcaac tcaact caactc aactct actctt ctcttg tcttgg cttggc ttggca tggcat ggcata gcatag catagc atagca tagcac agcact gcactg cactga actgaa ctgaaa tgaaat gaaatt aaattc aattct attcta ttctat tctata ctataa tataac ataact taacta aactat actatt ctattc tattca attcaa ttcaat tcaata caataa aataac ataacc taacca aaccaa accaag ccaaga caagaa aagaag agaaga gaagag aagagt agagta gagtat agtatg gtatga tatgaa atgaaa tgaaag gaaagg aaaggc aaggct aggctg ggctgt gctgtg ctgtga tgtgag gtgagc tgagca gagcat agcatg gcatgg catgga atggat tggatg ggatgg gatggt atggtg tggtgg ggtggg gtggga tgggaa gggaaa ggaaat gaaatt aaatta aattaa attaat ttaatg taatga aatgag atgagc tgagca gagcac agcaca gcacat cacatg acatgt catgta atgtac tgtact gtactg tactgt actgtg ctgtgg tgtggc gtggct tggctc ggctcc gctcct ctccta tcctac cctaca ctacat tacatg acatgg catgga atggat tggatc ggatca gatcat atcatc tcatca catcag atcaga tcagac cagaca agacaa gacaat acaatt caattt aatttt attttt tttttc ttttcg tttcga ttcgag tcgagt cgagtg gagtgc agtgcc gtgccc tgccca gcccag cccagc ccagcc cagccc agccct gccctc ccctct cctctg ctctgg tctggt ctggtt tggttc ggttca gttcac ttcaca tcacat cacatt acattc cattca attcag ttcagc tcagct cagctc agctcc gctcca ctccag tccagt ccagtg cagtgc agtgca gtgcag tgcagt gcagtt cagttc agttca gttcaa ttcaag tcaagg caaggc aaggct aggctt ggcttt gctttc ctttca tttcag ttcaga tcagac cagaca agacaa gacaag acaagc caagcc aagcca agccac gccact ccactt cacttt actttt cttttg ttttgg tttggc ttggca tggcag ggcaga gcagaa cagaat agaata gaatat aatatg atatgg tatggc atggca tggcag ggcagt gcagtt cagtta agttac gttaca ttacaa tacaac acaaca caacat aacatc acatca catcag atcagt tcagtc cagtca agtcaa gtcaac tcaacc caaccc aaccct accctg ccctgc cctgcc ctgccc tgccct gccctg ccctgt cctgtt ctgttg tgttgg gttgga ttggat tggatc ggatct gatctt atcttt tctttt ctttta ttttag tttaga ttagat tagatg agatgc gatgct atgctc tgctcc gctcct ctcctc tcctcc cctccg ctccgg tccggt ccggtt cggttt ggttta gtttat tttatg ttatgt tatgtg atgtgt tgtgtc gtgtcc tgtccc gtccct tccctc ccctca cctcag ctcagg tcaggc caggcc aggccc ggccca gcccag cccagc ccagcg cagcgt agcgtt gcgttg cgttgt gttgtg ttgtga tgtgat gtgatg tgatgg gatgga atggag tggagt ggagta gagtaa agtaaa gtaaat taaatg aaatga aatgac atgact tgactg gactgc actgct ctgctt tgcttt gctttg ctttga tttgat ttgatg tgatga gatgaa atgaaa tgaaag gaaagt aaagtg aagtga agtgat gtgatg tgatga gatgaa atgaac tgaact gaactg aactgt actgtt ctgttt tgtttt gttttg ttttgc tttgcg ttgcgt tgcgtg gcgtga cgtgag gtgagc tgagcc gagccc agccct gccctc ccctca cctcaa ctcaac tcaacc caacct aacctg acctgc cctgcc ctgcct tgcctg gcctgc cctgca ctgcaa tgcaat gcaata caatac aatacc atacca taccag accagc ccagct cagctc agctcc gctcct ctcctt tccttc ccttca cttcag ttcagg tcaggc caggca aggcag ggcagc gcagca cagcat agcatg gcatgg catggc atggcc tggccc ggccct gccctc ccctct cctctc ctctca tctcat ctcatc tcatct catctg atctgt tctgtg ctgtga tgtgat gtgatg tgatgg gatggc atggct tggctt ggcttc gcttca cttcag ttcagg tcaggg caggga agggac gggact ggactg gactgt actgtg ctgtga tgtgag gtgaga tgagaa gagaat agaatg gaatgg aatggc atggcc tggccg ggccgg gccggg ccggga cgggat gggatg ggatga gatgag atgagc tgagca gagcaa agcaaa gcaaaa caaaac aaaact aaactg aactgc actgca ctgcac tgcact gcactc cactca actcaa ctcaaa tcaaag caaagt aaagta aagtat agtatt gtattc tattcc attcca ttccat tccatg ccatgc catgca atgcaa tgcaac gcaaca caacaa aacaac acaaca caacag aacaga acagaa cagaac agaact gaactt aacttt actttt ctttta ttttaa tttaag ttaagt taagtg aagtgt agtgtg gtgtgg tgtggc gtggca tggcaa ggcaat gcaatg caatga aatgat atgata tgatat gatatt atattt tatttg atttgc tttgct ttgctt tgcttt gcttta ctttag tttagg ttagga taggaa aggaaa ggaaac gaaaca aaacaa aacaaa acaaaa caaaat aaaatg aaatgc aatgca atgcaa tgcaaa gcaaaa caaaat aaaatg aaatgt aatgtg atgtga tgtgat gtgatg tgatgg gatggg atggga tgggac gggaca ggacag gacagt acagtg cagtgg agtgga gtggat tggatt ggattg gattgt attgtc ttgtcc tgtcca gtccag tccaga ccagat cagatg agatgg gatgga atggaa tggaag ggaagt gaagtg aagtga agtgat gtgatg tgatga gatgaa atgaag tgaaga gaagaa aagaag agaagg gaaggc aaggct aggctg ggctgc gctgca ctgcac tgcacc gcacct cacctg acctgc cctgca ctgcag tgcagc gcagca cagcag agcagg gcagga caggag aggagt ggagtt gagttc agttcc gttcct ttcctc tcctcc cctccg ctccgc tccgcc ccgccc cgccct gccctt cccttc ccttca cttcac ttcacc tcaccg caccgc accgca ccgcat cgcatc gcatca catcat atcatc tcatcg catcgg atcgga tcggag cggagg ggaggc gaggca aggcac ggcaca gcacag cacaga acagac cagaca agacac gacacc acaccc caccct accctg ccctgg cctgga ctggag tggagg ggaggg gagggg aggggg gggggg gggggt ggggtt gggttg ggttgg gttggc ttggcc tggccg ggccgt gccgtg ccgtgg cgtggc gtggca tggcag ggcagg gcaggt caggtc aggtca ggtcag gtcagc tcagcc cagcct agcctc gcctcc cctcca ctccac tccact ccactt cacttt actttg ctttgt tttgtt ttgttg tgttgg gttgga ttggat tggatc ggatct gatctg atctgc tctgcc ctgcct tgccta gcctac cctact ctactg tactgt actgtg ctgtgg tgtggt gtggtg tggtgc ggtgcc gtgcct tgcctc gcctca cctcag ctcagt tcagtc cagtca agtcat gtcatc tcatct catctc atctcc tctcca ctccag tccagg ccaggg caggga agggag gggagt ggagtg gagtgg agtggc gtggct tggctt ggcttc gcttct cttctt ttcttt tctttc ctttct tttctg ttctgc tctgca ctgcag tgcagc gcagcc cagccc agccca gcccac cccact ccactg cactgt actgtt ctgttt tgtttt gttttc ttttca tttcat ttcatg tcatgg catgga atggaa tggaaa ggaaac gaaaca aaacag aacagg acaggc caggct aggctg ggctgt gctgtc ctgtca tgtcag gtcaga tcagat cagatc agatcc gatccc atccca tcccac cccaca ccacac cacacc acacca caccat accatg ccatgg catgga atggac tggact ggactg gactgc actgca ctgcac tgcaca gcacac cacacc acacct cacctc acctcg cctcgg ctcggg tcggga cgggat gggatg ggatgt gatgta atgtat tgtatg gtatgt tatgtt atgttc tgttca gttcag ttcagg tcaggg cagggg agggga ggggaa gggaat ggaatg gaatgc aatgcc atgcca tgccaa gccaag ccaagt caagtt aagttt agtttg gtttgt tttgtc ttgtct tgtctc gtctcc tctccc ctcccc tccccg ccccgg cccggt ccggtg cggtga ggtgag gtgaga tgagaa gagaag agaaga gaagaa aagaat agaatt gaattg aattgt attgtg ttgtgg tgtggt gtggtc tggtcc ggtcca gtccac tccacg ccacga cacgag acgagt cgagta gagtac agtact gtacta tactat actata ctataa tataac ataaca taacag aacagt acagtc cagtca agtcag gtcaga tcagac cagact agactt gacttt actttt cttttg ttttga tttgat ttgatt tgatta gattat attatg ttatga tatgat atgata tgatat gatatt atattg tattgc attgct ttgctt tgcttt gctttg ctttgc tttgct ttgcta tgctac gctaca ctacag tacagc acagct cagctc agctca gctcag ctcagt tcagta cagtat agtatt gtattg tattgc attgcc ttgcct tgcctg gcctgg cctggc ctggcc tggcct ggcctg gcctga cctgag ctgaga tgagac gagacc agaccc gaccct accctg ccctga cctgaa ctgaaa tgaaac gaaaca aaacag aacagc acagct cagctc agctca gctcat ctcatt tcattc cattca attcag ttcagc tcagcc cagcca agccaa gccaat ccaata caatat aatatg atatgc tatgca atgcat tgcatt gcattc cattcc attcct ttcctc tcctcc cctccc ctccca tcccac cccact ccactg cactgg actggt ctggtc tggtca ggtcag gtcaga tcagag cagaga agagag gagagt agagtt gagttc agttcg gttcgc ttcgca tcgcag cgcagt gcagtg cagtgg agtggg gtgggg tgggga ggggag gggaga ggagaa gagaag agaagt gaagtg aagtgc agtgct gtgctg tgctgg gctggg ctgggt tgggta gggtaa ggtaac gtaact taactg aactgg actggc ctggct tggctg ggctgg gctggg ctgggg tggggg gggggc ggggcg gggcga ggcgaa gcgaag cgaaga gaagac aagaca agacac gacacg acacga cacgaa acgaag cgaagc gaagca aagcag agcaga gcagat cagata agataa gataat ataata taataa aataaa ataaag taaagg aaaggc aaggct aggctc ggctcc gctccc ctccct tccctc ccctcg cctcgt ctcgtt tcgttc cgttct gttctg ttctgc tctgca ctgcag tgcagc gcagca cagcaa agcaag gcaagc caagcg aagcgg agcgga gcggag cggagg ggaggt gaggta aggtag ggtaga gtagag tagagc agagct gagctc agctca gctcat ctcatt tcattg cattga attgat ttgatc tgatca gatcaa atcaaa tcaaac caaacg aaacgc aacgct acgctc cgctct gctctg ctctgt tctgtg ctgtgt tgtgtt gtgttt tgtttc gtttcc tttcca ttccac tccacc ccacct caccta acctac cctacg ctacgg tacggg acggga cgggat gggatc ggatca gatcat atcatc tcatca catcac atcact tcactt cacttc acttct cttctc ttctcg tctcgg ctcgga tcggat cggatg ggatgc gatgct atgctc tgctct gctctg ctctgt tctgtg ctgtgc tgtgca gtgcag tgcagg gcaggc caggca aggcat ggcata gcataa cataat ataatg taatgt aatgtc atgtca tgtcag gtcagg tcaggc caggca aggcaa ggcaag gcaaga caagag aagaga agagag gagaga agagat gagatg agatgc gatgcc atgcct tgcctg gcctgc cctgca ctgcaa tgcaaa gcaaag caaagg aaagga aaggag aggaga ggagat gagatt agattc gattcg attcgg ttcggg tcgggt cgggtg gggtgg ggtgga gtggac tggacc ggacct gacctt accttt ccttta ctttat tttatc ttatct tatctt atcttg tcttgt cttgtc ttgtcg tgtcga gtcgaa tcgaag cgaaga gaagaa aagaaa agaaaa gaaaaa aaaaag aaaagt aaagtg aagtga agtgat gtgatg tgatgg gatgga atggaa tggaaa ggaaaa gaaaat aaaatg aaatgg aatgga atggat tggatt ggattt gatttt attttg ttttga tttgac ttgact tgactg gactgg actggc ctggca tggcat ggcatt gcattg cattgt attgtt ttgtta tgttag gttagc ttagct tagctg agctgg gctggg ctgggg tgggga ggggac gggaca ggacat gacatg acatgg catgga atggaa tggaag ggaagt gaagtg aagtgg agtgga gtggac tggacg ggacga gacgac acgacc cgacca gaccaa accaaa ccaaac caaact aaactt aacttt actttc ctttcc tttcct ttcctg tcctgg cctggt ctggtg tggtgt ggtgtt gtgttt tgttta gtttac tttaca ttacac tacaca acacaa cacaag acaagg caaggg aagggt agggtg gggtgt ggtgtc gtgtca tgtcaa gtcaaa tcaaac caaact aaactt aacttt actttg ctttgt tttgtt ttgttc tgttcc gttccc ttccct tccctg ccctgg cctgga ctggat tggatt ggattc gattca attcat ttcata tcataa cataaa ataaat taaata aaatat aatatg atatgt tatgtc atgtcc tgtccc gtccct tccctt cccttc ccttct cttctc ttctct tctctt ctcttt tctttt cttttg ttttgt tttgta ttgtaa\n",
            "Predicted Gene: ['ENST00000419127.5']\n",
            "Actual Gene: ENST00000419127.5\n",
            "Predicted Disease: ['']\n",
            "Actual Disease: \n",
            "\n",
            "\n"
          ]
        }
      ]
    },
    {
      "cell_type": "code",
      "source": [
        "\n",
        "# Evaluate the performance of the classifiers using accuracy, precision, recall and f1-score metrics\n",
        "print(\"Gene Classification Metrics:\")\n",
        "print(f\"Accuracy: {accuracy_score(y_test_gene, nb_classifier.predict(X_test_cv.toarray()))*100}\")\n",
        "print(f\"Precision: {precision_score(y_test_gene, nb_classifier.predict(X_test_cv.toarray()), average='macro')}\")\n",
        "print(f\"Recall: {recall_score(y_test_gene, nb_classifier.predict(X_test_cv.toarray()), average='macro')}\")\n",
        "print(f\"F1-score: {f1_score(y_test_gene, nb_classifier.predict(X_test_cv.toarray()), average='macro')}\")\n"
      ],
      "metadata": {
        "colab": {
          "base_uri": "https://localhost:8080/"
        },
        "id": "yJZAjVw97-c1",
        "outputId": "4d315636-f368-4be8-c4cf-903450308a67"
      },
      "execution_count": 43,
      "outputs": [
        {
          "output_type": "stream",
          "name": "stdout",
          "text": [
            "Gene Classification Metrics:\n",
            "Accuracy: 100.0\n",
            "Precision: 1.0\n",
            "Recall: 1.0\n",
            "F1-score: 1.0\n"
          ]
        }
      ]
    },
    {
      "cell_type": "code",
      "source": [
        "\n",
        "print(\"Disease Prediction Metrics:\")\n",
        "print(f\"Accuracy: {accuracy_score(y_test_disease, knn_classifier.predict(X_test_cv.toarray()))*100}\")\n",
        "print(f\"Precision: {precision_score(y_test_disease, knn_classifier.predict(X_test_cv.toarray()), average='macro')}\")\n",
        "print(f\"Recall: {recall_score(y_test_disease, knn_classifier.predict(X_test_cv.toarray()), average='macro')}\")\n",
        "print(f\"F1-score: {f1_score(y_test_disease, knn_classifier.predict(X_test_cv.toarray()), average='macro')}\")\n"
      ],
      "metadata": {
        "colab": {
          "base_uri": "https://localhost:8080/"
        },
        "id": "0pMpbOt58ArL",
        "outputId": "53490bcf-8474-4d8c-8a64-df4b2bb39ba4"
      },
      "execution_count": 44,
      "outputs": [
        {
          "output_type": "stream",
          "name": "stdout",
          "text": [
            "Disease Prediction Metrics:\n",
            "Accuracy: 100.0\n",
            "Precision: 1.0\n",
            "Recall: 1.0\n",
            "F1-score: 1.0\n"
          ]
        }
      ]
    },
    {
      "cell_type": "code",
      "source": [
        "# Vectorize the k-mer sentences using TfidfVectorizer\n",
        "v = TfidfVectorizer(decode_error='replace', encoding='utf-8', stop_words='english', ngram_range=(1, 1), sublinear_tf=True)\n",
        "X_train_tfidf = v.fit_transform(X_train)\n",
        "X_test_tfidf = v.transform(X_test)"
      ],
      "metadata": {
        "id": "tGsyGi3VEXUn"
      },
      "execution_count": 47,
      "outputs": []
    },
    {
      "cell_type": "code",
      "source": [
        "# Train the Naive Bayes classifier for gene classification\n",
        "nb_classifier_gene = GaussianNB()\n",
        "nb_classifier_gene.fit(X_train_tfidf.toarray(), y_train_gene)\n"
      ],
      "metadata": {
        "colab": {
          "base_uri": "https://localhost:8080/",
          "height": 75
        },
        "id": "H_khSkANHeQu",
        "outputId": "0ffcacbc-d2b9-4f04-e6a5-d374b9b541f3"
      },
      "execution_count": 48,
      "outputs": [
        {
          "output_type": "execute_result",
          "data": {
            "text/plain": [
              "GaussianNB()"
            ],
            "text/html": [
              "<style>#sk-container-id-5 {color: black;background-color: white;}#sk-container-id-5 pre{padding: 0;}#sk-container-id-5 div.sk-toggleable {background-color: white;}#sk-container-id-5 label.sk-toggleable__label {cursor: pointer;display: block;width: 100%;margin-bottom: 0;padding: 0.3em;box-sizing: border-box;text-align: center;}#sk-container-id-5 label.sk-toggleable__label-arrow:before {content: \"▸\";float: left;margin-right: 0.25em;color: #696969;}#sk-container-id-5 label.sk-toggleable__label-arrow:hover:before {color: black;}#sk-container-id-5 div.sk-estimator:hover label.sk-toggleable__label-arrow:before {color: black;}#sk-container-id-5 div.sk-toggleable__content {max-height: 0;max-width: 0;overflow: hidden;text-align: left;background-color: #f0f8ff;}#sk-container-id-5 div.sk-toggleable__content pre {margin: 0.2em;color: black;border-radius: 0.25em;background-color: #f0f8ff;}#sk-container-id-5 input.sk-toggleable__control:checked~div.sk-toggleable__content {max-height: 200px;max-width: 100%;overflow: auto;}#sk-container-id-5 input.sk-toggleable__control:checked~label.sk-toggleable__label-arrow:before {content: \"▾\";}#sk-container-id-5 div.sk-estimator input.sk-toggleable__control:checked~label.sk-toggleable__label {background-color: #d4ebff;}#sk-container-id-5 div.sk-label input.sk-toggleable__control:checked~label.sk-toggleable__label {background-color: #d4ebff;}#sk-container-id-5 input.sk-hidden--visually {border: 0;clip: rect(1px 1px 1px 1px);clip: rect(1px, 1px, 1px, 1px);height: 1px;margin: -1px;overflow: hidden;padding: 0;position: absolute;width: 1px;}#sk-container-id-5 div.sk-estimator {font-family: monospace;background-color: #f0f8ff;border: 1px dotted black;border-radius: 0.25em;box-sizing: border-box;margin-bottom: 0.5em;}#sk-container-id-5 div.sk-estimator:hover {background-color: #d4ebff;}#sk-container-id-5 div.sk-parallel-item::after {content: \"\";width: 100%;border-bottom: 1px solid gray;flex-grow: 1;}#sk-container-id-5 div.sk-label:hover label.sk-toggleable__label {background-color: #d4ebff;}#sk-container-id-5 div.sk-serial::before {content: \"\";position: absolute;border-left: 1px solid gray;box-sizing: border-box;top: 0;bottom: 0;left: 50%;z-index: 0;}#sk-container-id-5 div.sk-serial {display: flex;flex-direction: column;align-items: center;background-color: white;padding-right: 0.2em;padding-left: 0.2em;position: relative;}#sk-container-id-5 div.sk-item {position: relative;z-index: 1;}#sk-container-id-5 div.sk-parallel {display: flex;align-items: stretch;justify-content: center;background-color: white;position: relative;}#sk-container-id-5 div.sk-item::before, #sk-container-id-5 div.sk-parallel-item::before {content: \"\";position: absolute;border-left: 1px solid gray;box-sizing: border-box;top: 0;bottom: 0;left: 50%;z-index: -1;}#sk-container-id-5 div.sk-parallel-item {display: flex;flex-direction: column;z-index: 1;position: relative;background-color: white;}#sk-container-id-5 div.sk-parallel-item:first-child::after {align-self: flex-end;width: 50%;}#sk-container-id-5 div.sk-parallel-item:last-child::after {align-self: flex-start;width: 50%;}#sk-container-id-5 div.sk-parallel-item:only-child::after {width: 0;}#sk-container-id-5 div.sk-dashed-wrapped {border: 1px dashed gray;margin: 0 0.4em 0.5em 0.4em;box-sizing: border-box;padding-bottom: 0.4em;background-color: white;}#sk-container-id-5 div.sk-label label {font-family: monospace;font-weight: bold;display: inline-block;line-height: 1.2em;}#sk-container-id-5 div.sk-label-container {text-align: center;}#sk-container-id-5 div.sk-container {/* jupyter's `normalize.less` sets `[hidden] { display: none; }` but bootstrap.min.css set `[hidden] { display: none !important; }` so we also need the `!important` here to be able to override the default hidden behavior on the sphinx rendered scikit-learn.org. See: https://github.com/scikit-learn/scikit-learn/issues/21755 */display: inline-block !important;position: relative;}#sk-container-id-5 div.sk-text-repr-fallback {display: none;}</style><div id=\"sk-container-id-5\" class=\"sk-top-container\"><div class=\"sk-text-repr-fallback\"><pre>GaussianNB()</pre><b>In a Jupyter environment, please rerun this cell to show the HTML representation or trust the notebook. <br />On GitHub, the HTML representation is unable to render, please try loading this page with nbviewer.org.</b></div><div class=\"sk-container\" hidden><div class=\"sk-item\"><div class=\"sk-estimator sk-toggleable\"><input class=\"sk-toggleable__control sk-hidden--visually\" id=\"sk-estimator-id-5\" type=\"checkbox\" checked><label for=\"sk-estimator-id-5\" class=\"sk-toggleable__label sk-toggleable__label-arrow\">GaussianNB</label><div class=\"sk-toggleable__content\"><pre>GaussianNB()</pre></div></div></div></div></div>"
            ]
          },
          "metadata": {},
          "execution_count": 48
        }
      ]
    },
    {
      "cell_type": "code",
      "source": [
        "# Train the K-Nearest Neighbors classifier for disease prediction\n",
        "knn_classifier_disease = KNeighborsClassifier(n_neighbors=1)\n",
        "knn_classifier_disease.fit(X_train_tfidf.toarray(), y_train_disease)\n"
      ],
      "metadata": {
        "colab": {
          "base_uri": "https://localhost:8080/",
          "height": 75
        },
        "id": "_tyxrvOpHfob",
        "outputId": "4dff294d-550c-4627-d3f3-43aedf27d06f"
      },
      "execution_count": 52,
      "outputs": [
        {
          "output_type": "execute_result",
          "data": {
            "text/plain": [
              "KNeighborsClassifier(n_neighbors=1)"
            ],
            "text/html": [
              "<style>#sk-container-id-7 {color: black;background-color: white;}#sk-container-id-7 pre{padding: 0;}#sk-container-id-7 div.sk-toggleable {background-color: white;}#sk-container-id-7 label.sk-toggleable__label {cursor: pointer;display: block;width: 100%;margin-bottom: 0;padding: 0.3em;box-sizing: border-box;text-align: center;}#sk-container-id-7 label.sk-toggleable__label-arrow:before {content: \"▸\";float: left;margin-right: 0.25em;color: #696969;}#sk-container-id-7 label.sk-toggleable__label-arrow:hover:before {color: black;}#sk-container-id-7 div.sk-estimator:hover label.sk-toggleable__label-arrow:before {color: black;}#sk-container-id-7 div.sk-toggleable__content {max-height: 0;max-width: 0;overflow: hidden;text-align: left;background-color: #f0f8ff;}#sk-container-id-7 div.sk-toggleable__content pre {margin: 0.2em;color: black;border-radius: 0.25em;background-color: #f0f8ff;}#sk-container-id-7 input.sk-toggleable__control:checked~div.sk-toggleable__content {max-height: 200px;max-width: 100%;overflow: auto;}#sk-container-id-7 input.sk-toggleable__control:checked~label.sk-toggleable__label-arrow:before {content: \"▾\";}#sk-container-id-7 div.sk-estimator input.sk-toggleable__control:checked~label.sk-toggleable__label {background-color: #d4ebff;}#sk-container-id-7 div.sk-label input.sk-toggleable__control:checked~label.sk-toggleable__label {background-color: #d4ebff;}#sk-container-id-7 input.sk-hidden--visually {border: 0;clip: rect(1px 1px 1px 1px);clip: rect(1px, 1px, 1px, 1px);height: 1px;margin: -1px;overflow: hidden;padding: 0;position: absolute;width: 1px;}#sk-container-id-7 div.sk-estimator {font-family: monospace;background-color: #f0f8ff;border: 1px dotted black;border-radius: 0.25em;box-sizing: border-box;margin-bottom: 0.5em;}#sk-container-id-7 div.sk-estimator:hover {background-color: #d4ebff;}#sk-container-id-7 div.sk-parallel-item::after {content: \"\";width: 100%;border-bottom: 1px solid gray;flex-grow: 1;}#sk-container-id-7 div.sk-label:hover label.sk-toggleable__label {background-color: #d4ebff;}#sk-container-id-7 div.sk-serial::before {content: \"\";position: absolute;border-left: 1px solid gray;box-sizing: border-box;top: 0;bottom: 0;left: 50%;z-index: 0;}#sk-container-id-7 div.sk-serial {display: flex;flex-direction: column;align-items: center;background-color: white;padding-right: 0.2em;padding-left: 0.2em;position: relative;}#sk-container-id-7 div.sk-item {position: relative;z-index: 1;}#sk-container-id-7 div.sk-parallel {display: flex;align-items: stretch;justify-content: center;background-color: white;position: relative;}#sk-container-id-7 div.sk-item::before, #sk-container-id-7 div.sk-parallel-item::before {content: \"\";position: absolute;border-left: 1px solid gray;box-sizing: border-box;top: 0;bottom: 0;left: 50%;z-index: -1;}#sk-container-id-7 div.sk-parallel-item {display: flex;flex-direction: column;z-index: 1;position: relative;background-color: white;}#sk-container-id-7 div.sk-parallel-item:first-child::after {align-self: flex-end;width: 50%;}#sk-container-id-7 div.sk-parallel-item:last-child::after {align-self: flex-start;width: 50%;}#sk-container-id-7 div.sk-parallel-item:only-child::after {width: 0;}#sk-container-id-7 div.sk-dashed-wrapped {border: 1px dashed gray;margin: 0 0.4em 0.5em 0.4em;box-sizing: border-box;padding-bottom: 0.4em;background-color: white;}#sk-container-id-7 div.sk-label label {font-family: monospace;font-weight: bold;display: inline-block;line-height: 1.2em;}#sk-container-id-7 div.sk-label-container {text-align: center;}#sk-container-id-7 div.sk-container {/* jupyter's `normalize.less` sets `[hidden] { display: none; }` but bootstrap.min.css set `[hidden] { display: none !important; }` so we also need the `!important` here to be able to override the default hidden behavior on the sphinx rendered scikit-learn.org. See: https://github.com/scikit-learn/scikit-learn/issues/21755 */display: inline-block !important;position: relative;}#sk-container-id-7 div.sk-text-repr-fallback {display: none;}</style><div id=\"sk-container-id-7\" class=\"sk-top-container\"><div class=\"sk-text-repr-fallback\"><pre>KNeighborsClassifier(n_neighbors=1)</pre><b>In a Jupyter environment, please rerun this cell to show the HTML representation or trust the notebook. <br />On GitHub, the HTML representation is unable to render, please try loading this page with nbviewer.org.</b></div><div class=\"sk-container\" hidden><div class=\"sk-item\"><div class=\"sk-estimator sk-toggleable\"><input class=\"sk-toggleable__control sk-hidden--visually\" id=\"sk-estimator-id-7\" type=\"checkbox\" checked><label for=\"sk-estimator-id-7\" class=\"sk-toggleable__label sk-toggleable__label-arrow\">KNeighborsClassifier</label><div class=\"sk-toggleable__content\"><pre>KNeighborsClassifier(n_neighbors=1)</pre></div></div></div></div></div>"
            ]
          },
          "metadata": {},
          "execution_count": 52
        }
      ]
    },
    {
      "cell_type": "code",
      "source": [
        "# Predictions for Gene Classification\n",
        "y_pred_gene = nb_classifier_gene.predict(X_test_tfidf.toarray())"
      ],
      "metadata": {
        "id": "pNLhYspdHDEH"
      },
      "execution_count": 53,
      "outputs": []
    },
    {
      "cell_type": "code",
      "source": [
        "# Predictions for Disease Prediction\n",
        "y_pred_disease = knn_classifier_disease.predict(X_test_tfidf.toarray())"
      ],
      "metadata": {
        "id": "0Ra2qIpnHmlL"
      },
      "execution_count": 54,
      "outputs": []
    },
    {
      "cell_type": "code",
      "source": [
        "# Create confusion matrices\n",
        "cm_gene = confusion_matrix(y_test_gene, y_pred_gene)\n",
        "cm_disease = confusion_matrix(y_test_disease, y_pred_disease)"
      ],
      "metadata": {
        "id": "swTHypkGHrhY"
      },
      "execution_count": 55,
      "outputs": []
    },
    {
      "cell_type": "code",
      "source": [
        "cm_gene"
      ],
      "metadata": {
        "colab": {
          "base_uri": "https://localhost:8080/"
        },
        "id": "LmWnqi1PH1iL",
        "outputId": "0f3741b6-f496-4f38-993c-9217ef262aaa"
      },
      "execution_count": 56,
      "outputs": [
        {
          "output_type": "execute_result",
          "data": {
            "text/plain": [
              "array([[1]])"
            ]
          },
          "metadata": {},
          "execution_count": 56
        }
      ]
    },
    {
      "cell_type": "code",
      "source": [
        "cm_gene"
      ],
      "metadata": {
        "colab": {
          "base_uri": "https://localhost:8080/"
        },
        "id": "8drzZI6UH7yD",
        "outputId": "83edc42a-4af5-4897-ed7b-f423293a01c9"
      },
      "execution_count": 57,
      "outputs": [
        {
          "output_type": "execute_result",
          "data": {
            "text/plain": [
              "array([[1]])"
            ]
          },
          "metadata": {},
          "execution_count": 57
        }
      ]
    },
    {
      "cell_type": "code",
      "source": [
        "# Plot heatmap for Gene Classification\n",
        "plt.figure(figsize=(8, 6))\n",
        "sns.heatmap(cm_gene, annot=True, fmt='d', cmap='Blues', xticklabels=nb_classifier_gene.classes_, yticklabels=nb_classifier_gene.classes_)\n",
        "plt.xlabel('Predicted Labels')\n",
        "plt.ylabel('True Labels')\n",
        "plt.title('Confusion Matrix for Gene Classification')\n",
        "plt.show()\n"
      ],
      "metadata": {
        "colab": {
          "base_uri": "https://localhost:8080/",
          "height": 564
        },
        "id": "ayOyzQANHGKA",
        "outputId": "a2d89fa9-342f-4bd9-83a4-c324b6244d87"
      },
      "execution_count": 58,
      "outputs": [
        {
          "output_type": "display_data",
          "data": {
            "text/plain": [
              "<Figure size 800x600 with 2 Axes>"
            ],
            "image/png": "[encoded data removed]"
          },
          "metadata": {}
        }
      ]
    },
    {
      "cell_type": "code",
      "source": [
        "\n",
        "# Plot heatmap for Disease Prediction\n",
        "plt.figure(figsize=(8, 6))\n",
        "sns.heatmap(cm_disease, annot=True, fmt='d', cmap='Blues', xticklabels=knn_classifier_disease.classes_, yticklabels=knn_classifier_disease.classes_)\n",
        "plt.xlabel('Predicted Labels')\n",
        "plt.ylabel('True Labels')\n",
        "plt.title('Confusion Matrix for Disease Prediction')\n",
        "plt.show()\n"
      ],
      "metadata": {
        "colab": {
          "base_uri": "https://localhost:8080/",
          "height": 550
        },
        "id": "CJziNNqbIA0f",
        "outputId": "9c3e41f3-9b13-4f62-ac54-355ec5bbd822"
      },
      "execution_count": 59,
      "outputs": [
        {
          "output_type": "display_data",
          "data": {
            "text/plain": [
              "<Figure size 800x600 with 2 Axes>"
            ],
            "image/png": "[encoded data removed]"
          },
          "metadata": {}
        }
      ]
    },
    {
      "cell_type": "code",
      "source": [
        "np.unique(y_train_disease)"
      ],
      "metadata": {
        "colab": {
          "base_uri": "https://localhost:8080/"
        },
        "id": "DbU4JkKvJ4_g",
        "outputId": "d3f0742e-449b-4288-be63-e9aa422a70b7"
      },
      "execution_count": 61,
      "outputs": [
        {
          "output_type": "execute_result",
          "data": {
            "text/plain": [
              "array([''], dtype=object)"
            ]
          },
          "metadata": {},
          "execution_count": 61
        }
      ]
    },
    {
      "cell_type": "code",
      "source": [
        "from keras.models import Sequential\n",
        "from keras.layers import Conv1D, MaxPooling1D, LSTM, Dense\n",
        "\n",
        "# define the cnn-lstm model architecture\n",
        "model = Sequential()\n",
        "model.add(Conv1D(filters=32, kernel_size=3, activation='relu', input_shape=(None, 4))) # input shape is (sequence length, one hot encoding size)\n",
        "model.add(MaxPooling1D(pool_size=2))\n",
        "model.add(LSTM(units=16))\n",
        "model.add(Dense(units=1, activation='sigmoid')) # output layer for binary classification\n",
        "\n",
        "# compile the model with loss function, optimizer, and metrics\n",
        "model.compile(loss='binary_crossentropy', optimizer='adam', metrics=['accuracy'])\n",
        "\n",
        "# print the model summary\n",
        "model.summary()\n"
      ],
      "metadata": {
        "id": "KYpXFSxvJhvf"
      },
      "execution_count": null,
      "outputs": []
    },
    {
      "cell_type": "code",
      "source": [
        "\n",
        "# fit the model to the training data\n",
        "model.fit(X_train, y_train_gene, epochs=10, batch_size=32)\n"
      ],
      "metadata": {
        "id": "qDvUtlPDJq1l"
      },
      "execution_count": null,
      "outputs": []
    },
    {
      "cell_type": "code",
      "source": [
        "\n",
        "# evaluate the model on the test data\n",
        "loss, accuracy = model.evaluate(X_test, y_test_disease)\n",
        "print('Test loss:', loss)\n",
        "print('Test accuracy:', accuracy)\n"
      ],
      "metadata": {
        "id": "Sfb-zbp2JunX"
      },
      "execution_count": null,
      "outputs": []
    },
    {
      "cell_type": "code",
      "source": [
        "# Split data into train and test sets\n",
        "X = np.array(seq_df[\"encoded_sequence\"].tolist())\n",
        "y = np.array(seq_df[\"RNA\"].tolist())\n",
        "\n",
        "X_train, X_test, y_train, y_test = train_test_split(X, y, test_size=0.2)\n"
      ],
      "metadata": {
        "id": "MgCsdbLRJx5o"
      },
      "execution_count": null,
      "outputs": []
    },
    {
      "cell_type": "markdown",
      "source": [
        "OR"
      ],
      "metadata": {
        "id": "ImgF_rQdKe_v"
      }
    },
    {
      "cell_type": "code",
      "source": [
        "# Define and train a CNN-LSTM model\n",
        "model = Sequential()\n",
        "model.add(Conv1D(filters=32, kernel_size=3, activation=\"relu\", input_shape=(None, 1)))\n",
        "model.add(MaxPooling1D(pool_size=2))\n",
        "model.add(LSTM(units=16))\n",
        "model.add(Dense(units=1, activation=\"sigmoid\"))\n",
        "model.compile(loss=\"binary_crossentropy\", optimizer=\"adam\", metrics=[\"accuracy\"])\n",
        "model.summary()\n"
      ],
      "metadata": {
        "id": "uLiCL_MJKiYv"
      },
      "execution_count": null,
      "outputs": []
    },
    {
      "cell_type": "code",
      "source": [
        "# Reshape X_train and X_test to fit the model input shape\n",
        "X_train = X_train.reshape(X_train.shape[0], X_train.shape, 1)\n",
        "X_test = X_test.reshape(X_test.shape[0], X_test.shape, 1)\n"
      ],
      "metadata": {
        "id": "3u59U3pzKoGk"
      },
      "execution_count": null,
      "outputs": []
    },
    {
      "cell_type": "code",
      "source": [
        "# Train the model\n",
        "history = model.fit(X_train, y_train, epochs=10)"
      ],
      "metadata": {
        "id": "CKrKYO7sKo2d"
      },
      "execution_count": null,
      "outputs": []
    },
    {
      "cell_type": "code",
      "source": [
        "# Evaluate the model on test set\n",
        "y_pred = model.predict(X_test)\n",
        "y_pred = np.round(y_pred).flatten()\n",
        "acc = accuracy_score(y_test, y_pred)\n",
        "f1 = f1_score(y_test, y_pred)\n",
        "print(\"Accuracy:\", acc)\n",
        "print(\"F1 score:\", f1)\n"
      ],
      "metadata": {
        "id": "ZiMc2MEjKq5S"
      },
      "execution_count": null,
      "outputs": []
    },
    {
      "cell_type": "code",
      "source": [],
      "metadata": {
        "id": "p6usbYD4MZIb"
      },
      "execution_count": null,
      "outputs": []
    },
    {
      "cell_type": "code",
      "source": [
        "# Plot the training history\n",
        "plt.plot(history.history[\"loss\"], label=\"loss\")\n",
        "plt.plot(history.history[\"accuracy\"], label=\"accuracy\")\n",
        "plt.legend()\n",
        "plt.show()"
      ],
      "metadata": {
        "id": "SSjydHTDKyCk"
      },
      "execution_count": null,
      "outputs": []
    }
  ]
}